{
 "cells": [
  {
   "cell_type": "markdown",
   "id": "9265487f-1eed-425b-936b-9429236bdc97",
   "metadata": {},
   "source": [
    "The data was gather from [Aung Pyae's Kaggle](https://www.kaggle.com/aungpyaeap/supermarket-sales)"
   ]
  },
  {
   "cell_type": "markdown",
   "id": "c60a9661-bf97-42c1-9c87-51756bf2930f",
   "metadata": {},
   "source": [
    "# 1. Load the data."
   ]
  },
  {
   "cell_type": "code",
   "execution_count": 1,
   "id": "846f2301-29e8-41dd-bb4a-875619ec4bb2",
   "metadata": {},
   "outputs": [],
   "source": [
    "from settings import *\n",
    "\n",
    "import pandas as pd\n",
    "import scipy.stats as stats\n",
    "import matplotlib.pyplot as plt\n",
    "\n",
    "import seaborn as sns\n",
    "from sqlalchemy import create_engine"
   ]
  },
  {
   "cell_type": "markdown",
   "id": "a11640e5-9557-464d-bd2a-6fc1b9680504",
   "metadata": {},
   "source": [
    "We need to create an engine in order to connect to a SQL data base."
   ]
  },
  {
   "cell_type": "code",
   "execution_count": 2,
   "id": "c468c0a1-8457-4476-88c8-23a52393e729",
   "metadata": {},
   "outputs": [],
   "source": [
    "engine = create_engine(f\"{dialect}://{user}{passwd}@{host}:{port}/{db}\")"
   ]
  },
  {
   "cell_type": "markdown",
   "id": "0209df4c-516d-4bee-956d-4c0d3697a7d5",
   "metadata": {},
   "source": [
    "Let's define a little function to avoid typing excessively."
   ]
  },
  {
   "cell_type": "code",
   "execution_count": 3,
   "id": "395a8710-65cc-4512-84cd-44ab6515c264",
   "metadata": {},
   "outputs": [],
   "source": [
    "def query(query: str):\n",
    "    return pd.read_sql_query(query, engine)"
   ]
  },
  {
   "cell_type": "markdown",
   "id": "ae36136b-ffe3-46ec-8dc6-fdbb429f9221",
   "metadata": {},
   "source": [
    "Let's try our connection in a simple query."
   ]
  },
  {
   "cell_type": "code",
   "execution_count": 4,
   "id": "7496371e-9640-4506-a0c9-60d495f6dd7b",
   "metadata": {},
   "outputs": [
    {
     "data": {
      "text/html": [
       "<div>\n",
       "<style scoped>\n",
       "    .dataframe tbody tr th:only-of-type {\n",
       "        vertical-align: middle;\n",
       "    }\n",
       "\n",
       "    .dataframe tbody tr th {\n",
       "        vertical-align: top;\n",
       "    }\n",
       "\n",
       "    .dataframe thead th {\n",
       "        text-align: right;\n",
       "    }\n",
       "</style>\n",
       "<table border=\"1\" class=\"dataframe\">\n",
       "  <thead>\n",
       "    <tr style=\"text-align: right;\">\n",
       "      <th></th>\n",
       "      <th>id</th>\n",
       "      <th>branch</th>\n",
       "      <th>city</th>\n",
       "      <th>customer_type</th>\n",
       "      <th>gender</th>\n",
       "      <th>product_line</th>\n",
       "      <th>unit_price</th>\n",
       "      <th>quantity</th>\n",
       "      <th>tax_5</th>\n",
       "      <th>total</th>\n",
       "      <th>purchase_date</th>\n",
       "      <th>time</th>\n",
       "      <th>payment</th>\n",
       "      <th>cogs</th>\n",
       "      <th>gross_margin_perct</th>\n",
       "      <th>gross_income</th>\n",
       "      <th>rating</th>\n",
       "    </tr>\n",
       "  </thead>\n",
       "  <tbody>\n",
       "    <tr>\n",
       "      <th>0</th>\n",
       "      <td>750-67-8428</td>\n",
       "      <td>A</td>\n",
       "      <td>Yangon</td>\n",
       "      <td>Member</td>\n",
       "      <td>Female</td>\n",
       "      <td>Health and beauty</td>\n",
       "      <td>74.69</td>\n",
       "      <td>7</td>\n",
       "      <td>26.1415</td>\n",
       "      <td>548.9715</td>\n",
       "      <td>2019-01-05</td>\n",
       "      <td>13:08:00</td>\n",
       "      <td>Ewallet</td>\n",
       "      <td>522.83</td>\n",
       "      <td>4.761905</td>\n",
       "      <td>26.1415</td>\n",
       "      <td>9.1</td>\n",
       "    </tr>\n",
       "    <tr>\n",
       "      <th>1</th>\n",
       "      <td>226-31-3081</td>\n",
       "      <td>C</td>\n",
       "      <td>Naypyitaw</td>\n",
       "      <td>Normal</td>\n",
       "      <td>Female</td>\n",
       "      <td>Electronic accessories</td>\n",
       "      <td>15.28</td>\n",
       "      <td>5</td>\n",
       "      <td>3.8200</td>\n",
       "      <td>80.2200</td>\n",
       "      <td>2019-03-08</td>\n",
       "      <td>10:29:00</td>\n",
       "      <td>Cash</td>\n",
       "      <td>76.40</td>\n",
       "      <td>4.761905</td>\n",
       "      <td>3.8200</td>\n",
       "      <td>9.6</td>\n",
       "    </tr>\n",
       "  </tbody>\n",
       "</table>\n",
       "</div>"
      ],
      "text/plain": [
       "            id branch       city customer_type  gender  \\\n",
       "0  750-67-8428      A     Yangon        Member  Female   \n",
       "1  226-31-3081      C  Naypyitaw        Normal  Female   \n",
       "\n",
       "             product_line  unit_price  quantity    tax_5     total  \\\n",
       "0       Health and beauty       74.69         7  26.1415  548.9715   \n",
       "1  Electronic accessories       15.28         5   3.8200   80.2200   \n",
       "\n",
       "  purchase_date      time  payment    cogs  gross_margin_perct  gross_income  \\\n",
       "0    2019-01-05  13:08:00  Ewallet  522.83            4.761905       26.1415   \n",
       "1    2019-03-08  10:29:00     Cash   76.40            4.761905        3.8200   \n",
       "\n",
       "   rating  \n",
       "0     9.1  \n",
       "1     9.6  "
      ]
     },
     "execution_count": 4,
     "metadata": {},
     "output_type": "execute_result"
    }
   ],
   "source": [
    "query(\"SELECT * FROM supermarket LIMIT 2\")"
   ]
  },
  {
   "cell_type": "code",
   "execution_count": 5,
   "id": "d66030c5-dcf5-4f3b-8362-6007d13400c9",
   "metadata": {},
   "outputs": [
    {
     "data": {
      "text/html": [
       "<div>\n",
       "<style scoped>\n",
       "    .dataframe tbody tr th:only-of-type {\n",
       "        vertical-align: middle;\n",
       "    }\n",
       "\n",
       "    .dataframe tbody tr th {\n",
       "        vertical-align: top;\n",
       "    }\n",
       "\n",
       "    .dataframe thead th {\n",
       "        text-align: right;\n",
       "    }\n",
       "</style>\n",
       "<table border=\"1\" class=\"dataframe\">\n",
       "  <thead>\n",
       "    <tr style=\"text-align: right;\">\n",
       "      <th></th>\n",
       "      <th>table_length</th>\n",
       "    </tr>\n",
       "  </thead>\n",
       "  <tbody>\n",
       "    <tr>\n",
       "      <th>0</th>\n",
       "      <td>1000</td>\n",
       "    </tr>\n",
       "  </tbody>\n",
       "</table>\n",
       "</div>"
      ],
      "text/plain": [
       "   table_length\n",
       "0          1000"
      ]
     },
     "execution_count": 5,
     "metadata": {},
     "output_type": "execute_result"
    }
   ],
   "source": [
    "query(\"\"\"\n",
    "      SELECT\n",
    "      DISTINCT COUNT(*) OVER () AS table_length\n",
    "      FROM supermarket\n",
    "      \"\"\")"
   ]
  },
  {
   "cell_type": "markdown",
   "id": "25ac5ed7-addb-433c-9d07-479f636ec2bc",
   "metadata": {},
   "source": [
    "# 2. Exploratory Data Analysis"
   ]
  },
  {
   "cell_type": "markdown",
   "id": "b1cb0215-5f8a-4b9c-a7b7-3ed1d60a10e1",
   "metadata": {},
   "source": [
    "## 2.1 Data Quality"
   ]
  },
  {
   "cell_type": "markdown",
   "id": "04cd0123-3545-49f0-a184-63b89c9480bd",
   "metadata": {},
   "source": [
    "In this first part we'll check what kind of dataypes we're working with, see if there are null or duplicate values."
   ]
  },
  {
   "cell_type": "markdown",
   "id": "dfb11a93-8042-40bf-b6cb-6bb0b434e7bc",
   "metadata": {},
   "source": [
    "First, we'll check the data types in the table."
   ]
  },
  {
   "cell_type": "code",
   "execution_count": 6,
   "id": "43e2ebb6-b684-4d77-acbc-7a4d78b514c6",
   "metadata": {},
   "outputs": [
    {
     "data": {
      "text/html": [
       "<div>\n",
       "<style scoped>\n",
       "    .dataframe tbody tr th:only-of-type {\n",
       "        vertical-align: middle;\n",
       "    }\n",
       "\n",
       "    .dataframe tbody tr th {\n",
       "        vertical-align: top;\n",
       "    }\n",
       "\n",
       "    .dataframe thead th {\n",
       "        text-align: right;\n",
       "    }\n",
       "</style>\n",
       "<table border=\"1\" class=\"dataframe\">\n",
       "  <thead>\n",
       "    <tr style=\"text-align: right;\">\n",
       "      <th></th>\n",
       "      <th>column_name</th>\n",
       "      <th>data_type</th>\n",
       "      <th>is_nullable</th>\n",
       "    </tr>\n",
       "  </thead>\n",
       "  <tbody>\n",
       "    <tr>\n",
       "      <th>0</th>\n",
       "      <td>id</td>\n",
       "      <td>character</td>\n",
       "      <td>NO</td>\n",
       "    </tr>\n",
       "    <tr>\n",
       "      <th>1</th>\n",
       "      <td>branch</td>\n",
       "      <td>character</td>\n",
       "      <td>NO</td>\n",
       "    </tr>\n",
       "    <tr>\n",
       "      <th>2</th>\n",
       "      <td>city</td>\n",
       "      <td>character varying</td>\n",
       "      <td>NO</td>\n",
       "    </tr>\n",
       "    <tr>\n",
       "      <th>3</th>\n",
       "      <td>customer_type</td>\n",
       "      <td>character varying</td>\n",
       "      <td>YES</td>\n",
       "    </tr>\n",
       "    <tr>\n",
       "      <th>4</th>\n",
       "      <td>gender</td>\n",
       "      <td>character varying</td>\n",
       "      <td>YES</td>\n",
       "    </tr>\n",
       "    <tr>\n",
       "      <th>5</th>\n",
       "      <td>product_line</td>\n",
       "      <td>character varying</td>\n",
       "      <td>NO</td>\n",
       "    </tr>\n",
       "    <tr>\n",
       "      <th>6</th>\n",
       "      <td>unit_price</td>\n",
       "      <td>numeric</td>\n",
       "      <td>NO</td>\n",
       "    </tr>\n",
       "    <tr>\n",
       "      <th>7</th>\n",
       "      <td>quantity</td>\n",
       "      <td>integer</td>\n",
       "      <td>NO</td>\n",
       "    </tr>\n",
       "    <tr>\n",
       "      <th>8</th>\n",
       "      <td>tax_5</td>\n",
       "      <td>numeric</td>\n",
       "      <td>NO</td>\n",
       "    </tr>\n",
       "    <tr>\n",
       "      <th>9</th>\n",
       "      <td>total</td>\n",
       "      <td>numeric</td>\n",
       "      <td>NO</td>\n",
       "    </tr>\n",
       "    <tr>\n",
       "      <th>10</th>\n",
       "      <td>purchase_date</td>\n",
       "      <td>date</td>\n",
       "      <td>NO</td>\n",
       "    </tr>\n",
       "    <tr>\n",
       "      <th>11</th>\n",
       "      <td>time</td>\n",
       "      <td>time without time zone</td>\n",
       "      <td>NO</td>\n",
       "    </tr>\n",
       "    <tr>\n",
       "      <th>12</th>\n",
       "      <td>payment</td>\n",
       "      <td>character varying</td>\n",
       "      <td>NO</td>\n",
       "    </tr>\n",
       "    <tr>\n",
       "      <th>13</th>\n",
       "      <td>cogs</td>\n",
       "      <td>numeric</td>\n",
       "      <td>NO</td>\n",
       "    </tr>\n",
       "    <tr>\n",
       "      <th>14</th>\n",
       "      <td>gross_margin_perct</td>\n",
       "      <td>numeric</td>\n",
       "      <td>NO</td>\n",
       "    </tr>\n",
       "    <tr>\n",
       "      <th>15</th>\n",
       "      <td>gross_income</td>\n",
       "      <td>numeric</td>\n",
       "      <td>NO</td>\n",
       "    </tr>\n",
       "    <tr>\n",
       "      <th>16</th>\n",
       "      <td>rating</td>\n",
       "      <td>numeric</td>\n",
       "      <td>NO</td>\n",
       "    </tr>\n",
       "  </tbody>\n",
       "</table>\n",
       "</div>"
      ],
      "text/plain": [
       "           column_name               data_type is_nullable\n",
       "0                   id               character          NO\n",
       "1               branch               character          NO\n",
       "2                 city       character varying          NO\n",
       "3        customer_type       character varying         YES\n",
       "4               gender       character varying         YES\n",
       "5         product_line       character varying          NO\n",
       "6           unit_price                 numeric          NO\n",
       "7             quantity                 integer          NO\n",
       "8                tax_5                 numeric          NO\n",
       "9                total                 numeric          NO\n",
       "10       purchase_date                    date          NO\n",
       "11                time  time without time zone          NO\n",
       "12             payment       character varying          NO\n",
       "13                cogs                 numeric          NO\n",
       "14  gross_margin_perct                 numeric          NO\n",
       "15        gross_income                 numeric          NO\n",
       "16              rating                 numeric          NO"
      ]
     },
     "execution_count": 6,
     "metadata": {},
     "output_type": "execute_result"
    }
   ],
   "source": [
    "query(\"\"\"\n",
    "      SELECT\n",
    "      column_name\n",
    "      , data_type\n",
    "      , is_nullable\n",
    "      FROM INFORMATION_SCHEMA.COLUMNS\n",
    "      WHERE table_name = 'supermarket'\n",
    "      \"\"\")"
   ]
  },
  {
   "cell_type": "markdown",
   "id": "64704b71-76ee-40b3-b458-72f66afa2ad8",
   "metadata": {},
   "source": [
    "Everything seems to be ok. No column appears to have an inconvinient type and most of them are not-nullable, meaning they can't hold nullable values and we don't have to worry about it, except for customer_type and gender. Let's check the existence and amount of null values, if any."
   ]
  },
  {
   "cell_type": "code",
   "execution_count": 7,
   "id": "62a683a5-c64f-4005-b83b-fcaa478fc300",
   "metadata": {},
   "outputs": [
    {
     "data": {
      "text/html": [
       "<div>\n",
       "<style scoped>\n",
       "    .dataframe tbody tr th:only-of-type {\n",
       "        vertical-align: middle;\n",
       "    }\n",
       "\n",
       "    .dataframe tbody tr th {\n",
       "        vertical-align: top;\n",
       "    }\n",
       "\n",
       "    .dataframe thead th {\n",
       "        text-align: right;\n",
       "    }\n",
       "</style>\n",
       "<table border=\"1\" class=\"dataframe\">\n",
       "  <thead>\n",
       "    <tr style=\"text-align: right;\">\n",
       "      <th></th>\n",
       "      <th>customer_type</th>\n",
       "      <th>gender</th>\n",
       "    </tr>\n",
       "  </thead>\n",
       "  <tbody>\n",
       "  </tbody>\n",
       "</table>\n",
       "</div>"
      ],
      "text/plain": [
       "Empty DataFrame\n",
       "Columns: [customer_type, gender]\n",
       "Index: []"
      ]
     },
     "execution_count": 7,
     "metadata": {},
     "output_type": "execute_result"
    }
   ],
   "source": [
    "query(\"\"\"\n",
    "      SELECT\n",
    "      customer_type\n",
    "      , gender\n",
    "      FROM supermarket\n",
    "      WHERE customer_type IS NULL\n",
    "          OR gender IS NULL;\n",
    "      \"\"\")"
   ]
  },
  {
   "cell_type": "markdown",
   "id": "8ea4b379-10f7-485a-884c-69ed3a0d73fe",
   "metadata": {},
   "source": [
    "We don't have any null values. Great! \n",
    "\n",
    "Now let's confirm that the data given by the variable ***total*** is **equal** to unit_price by quantity plus tax_5 or\n",
    "\n",
    "\n",
    "$ total = unit\\_price * quantity + tax\\_5 $ "
   ]
  },
  {
   "cell_type": "code",
   "execution_count": 8,
   "id": "4b60f715-a13d-4eef-94bd-234d9c4957f6",
   "metadata": {},
   "outputs": [
    {
     "data": {
      "text/html": [
       "<div>\n",
       "<style scoped>\n",
       "    .dataframe tbody tr th:only-of-type {\n",
       "        vertical-align: middle;\n",
       "    }\n",
       "\n",
       "    .dataframe tbody tr th {\n",
       "        vertical-align: top;\n",
       "    }\n",
       "\n",
       "    .dataframe thead th {\n",
       "        text-align: right;\n",
       "    }\n",
       "</style>\n",
       "<table border=\"1\" class=\"dataframe\">\n",
       "  <thead>\n",
       "    <tr style=\"text-align: right;\">\n",
       "      <th></th>\n",
       "      <th>count</th>\n",
       "    </tr>\n",
       "  </thead>\n",
       "  <tbody>\n",
       "    <tr>\n",
       "      <th>0</th>\n",
       "      <td>0</td>\n",
       "    </tr>\n",
       "  </tbody>\n",
       "</table>\n",
       "</div>"
      ],
      "text/plain": [
       "   count\n",
       "0      0"
      ]
     },
     "execution_count": 8,
     "metadata": {},
     "output_type": "execute_result"
    }
   ],
   "source": [
    "query(\"\"\"\n",
    "      SELECT\n",
    "      COUNT(*)\n",
    "      FROM supermarket\n",
    "      WHERE total != unit_price * quantity + tax_5\n",
    "      \"\"\")"
   ]
  },
  {
   "cell_type": "markdown",
   "id": "fabdbc13-a99c-4d1c-b003-f40a2659b0a1",
   "metadata": {},
   "source": [
    "It seems the total is well calculated."
   ]
  },
  {
   "cell_type": "markdown",
   "id": "3528b90f-6f2a-46ff-ae59-0e15c5a86367",
   "metadata": {},
   "source": [
    "Now, let's see if there are any duplicate records. In this instance we'll define a dupe as a row that shares all the values of another row, except for the id."
   ]
  },
  {
   "cell_type": "code",
   "execution_count": 9,
   "id": "53cb58cb-aa70-4217-8f29-56b5442c214e",
   "metadata": {},
   "outputs": [
    {
     "data": {
      "text/html": [
       "<div>\n",
       "<style scoped>\n",
       "    .dataframe tbody tr th:only-of-type {\n",
       "        vertical-align: middle;\n",
       "    }\n",
       "\n",
       "    .dataframe tbody tr th {\n",
       "        vertical-align: top;\n",
       "    }\n",
       "\n",
       "    .dataframe thead th {\n",
       "        text-align: right;\n",
       "    }\n",
       "</style>\n",
       "<table border=\"1\" class=\"dataframe\">\n",
       "  <thead>\n",
       "    <tr style=\"text-align: right;\">\n",
       "      <th></th>\n",
       "      <th>dupes</th>\n",
       "    </tr>\n",
       "  </thead>\n",
       "  <tbody>\n",
       "  </tbody>\n",
       "</table>\n",
       "</div>"
      ],
      "text/plain": [
       "Empty DataFrame\n",
       "Columns: [dupes]\n",
       "Index: []"
      ]
     },
     "execution_count": 9,
     "metadata": {},
     "output_type": "execute_result"
    }
   ],
   "source": [
    "query(\"\"\"\n",
    "      SELECT\n",
    "      COUNT(*) AS dupes\n",
    "      FROM supermarket\n",
    "      GROUP BY\n",
    "      branch\n",
    "        , city\n",
    "        , customer_type\n",
    "        , gender\n",
    "        , product_line\n",
    "        , unit_price\n",
    "        , quantity\n",
    "        , tax_5\n",
    "        , total\n",
    "        , purchase_date\n",
    "        , time\n",
    "        , payment\n",
    "        , cogs\n",
    "        , gross_margin_perct\n",
    "        , gross_income\n",
    "        , rating\n",
    "      HAVING COUNT(*) > 1\n",
    "      \n",
    "      \"\"\")"
   ]
  },
  {
   "cell_type": "markdown",
   "id": "61b766f3-3f96-4ac6-ad8c-24acaf59dce1",
   "metadata": {},
   "source": [
    "It seems we don't have any dupes as we have defined them."
   ]
  },
  {
   "cell_type": "markdown",
   "id": "5a83181d-b5d6-48dc-8309-49388773bc94",
   "metadata": {},
   "source": [
    "## 2.2 Feature profiling"
   ]
  },
  {
   "cell_type": "markdown",
   "id": "40b9b8ad-8bae-4bdc-b2d6-a2096103a009",
   "metadata": {},
   "source": [
    "Now let's revise each of the variables individually, frequencies (if categorical) or distribution (if numerical)."
   ]
  },
  {
   "cell_type": "markdown",
   "id": "0669e4a2-0c8a-48d4-b63d-a013159afaab",
   "metadata": {},
   "source": [
    "### 2.2.1 Branch"
   ]
  },
  {
   "cell_type": "markdown",
   "id": "958f5205-9f5e-4639-9eac-19b69e2e12d9",
   "metadata": {},
   "source": [
    "The first variable is branch, it is categorical, so we have to check what they are and how frequent they are."
   ]
  },
  {
   "cell_type": "code",
   "execution_count": 10,
   "id": "04ea777b-42f1-434a-adba-0793f1c644f2",
   "metadata": {},
   "outputs": [
    {
     "data": {
      "text/html": [
       "<div>\n",
       "<style scoped>\n",
       "    .dataframe tbody tr th:only-of-type {\n",
       "        vertical-align: middle;\n",
       "    }\n",
       "\n",
       "    .dataframe tbody tr th {\n",
       "        vertical-align: top;\n",
       "    }\n",
       "\n",
       "    .dataframe thead th {\n",
       "        text-align: right;\n",
       "    }\n",
       "</style>\n",
       "<table border=\"1\" class=\"dataframe\">\n",
       "  <thead>\n",
       "    <tr style=\"text-align: right;\">\n",
       "      <th></th>\n",
       "      <th>branch</th>\n",
       "      <th>count</th>\n",
       "    </tr>\n",
       "  </thead>\n",
       "  <tbody>\n",
       "    <tr>\n",
       "      <th>0</th>\n",
       "      <td>A</td>\n",
       "      <td>340</td>\n",
       "    </tr>\n",
       "    <tr>\n",
       "      <th>1</th>\n",
       "      <td>B</td>\n",
       "      <td>332</td>\n",
       "    </tr>\n",
       "    <tr>\n",
       "      <th>2</th>\n",
       "      <td>C</td>\n",
       "      <td>328</td>\n",
       "    </tr>\n",
       "  </tbody>\n",
       "</table>\n",
       "</div>"
      ],
      "text/plain": [
       "  branch  count\n",
       "0      A    340\n",
       "1      B    332\n",
       "2      C    328"
      ]
     },
     "execution_count": 10,
     "metadata": {},
     "output_type": "execute_result"
    }
   ],
   "source": [
    "query(\"\"\"\n",
    "      SELECT\n",
    "      branch\n",
    "      , COUNT(*)\n",
    "      FROM supermarket\n",
    "      GROUP BY branch\n",
    "      \"\"\")"
   ]
  },
  {
   "cell_type": "code",
   "execution_count": 11,
   "id": "916cfa37-a2d5-4683-85b6-6c1f8ff05731",
   "metadata": {},
   "outputs": [
    {
     "data": {
      "text/plain": [
       "<AxesSubplot:xlabel='branch', ylabel='count'>"
      ]
     },
     "execution_count": 11,
     "metadata": {},
     "output_type": "execute_result"
    },
    {
     "data": {
      "image/png": "[encoded data removed]",
      "text/plain": [
       "<Figure size 1008x360 with 1 Axes>"
      ]
     },
     "metadata": {
      "needs_background": "light"
     },
     "output_type": "display_data"
    }
   ],
   "source": [
    "plt.figure(figsize=(14,5))\n",
    "sns.barplot(x=\"branch\", y=\"count\", data=query(\"\"\"\n",
    "                                              SELECT\n",
    "                                              branch\n",
    "                                              , COUNT(*)\n",
    "                                              FROM supermarket\n",
    "                                              GROUP BY branch\n",
    "                                              \"\"\").sort_values(\"count\", ascending=False))"
   ]
  },
  {
   "cell_type": "markdown",
   "id": "aaa03bbe-575a-4a37-af3f-3fb14d23bc47",
   "metadata": {},
   "source": [
    "### 2.2.2 City"
   ]
  },
  {
   "cell_type": "code",
   "execution_count": 12,
   "id": "e3991de4-d7b1-4fd5-8b03-edc968ae0ecf",
   "metadata": {},
   "outputs": [
    {
     "data": {
      "text/html": [
       "<div>\n",
       "<style scoped>\n",
       "    .dataframe tbody tr th:only-of-type {\n",
       "        vertical-align: middle;\n",
       "    }\n",
       "\n",
       "    .dataframe tbody tr th {\n",
       "        vertical-align: top;\n",
       "    }\n",
       "\n",
       "    .dataframe thead th {\n",
       "        text-align: right;\n",
       "    }\n",
       "</style>\n",
       "<table border=\"1\" class=\"dataframe\">\n",
       "  <thead>\n",
       "    <tr style=\"text-align: right;\">\n",
       "      <th></th>\n",
       "      <th>city</th>\n",
       "      <th>count</th>\n",
       "    </tr>\n",
       "  </thead>\n",
       "  <tbody>\n",
       "    <tr>\n",
       "      <th>0</th>\n",
       "      <td>Yangon</td>\n",
       "      <td>340</td>\n",
       "    </tr>\n",
       "    <tr>\n",
       "      <th>1</th>\n",
       "      <td>Naypyitaw</td>\n",
       "      <td>328</td>\n",
       "    </tr>\n",
       "    <tr>\n",
       "      <th>2</th>\n",
       "      <td>Mandalay</td>\n",
       "      <td>332</td>\n",
       "    </tr>\n",
       "  </tbody>\n",
       "</table>\n",
       "</div>"
      ],
      "text/plain": [
       "        city  count\n",
       "0     Yangon    340\n",
       "1  Naypyitaw    328\n",
       "2   Mandalay    332"
      ]
     },
     "execution_count": 12,
     "metadata": {},
     "output_type": "execute_result"
    }
   ],
   "source": [
    "query(\"\"\"\n",
    "      SELECT\n",
    "      city\n",
    "      , COUNT(*)\n",
    "      FROM supermarket\n",
    "      GROUP BY city\n",
    "      \"\"\")"
   ]
  },
  {
   "cell_type": "code",
   "execution_count": 13,
   "id": "c8aa281c-bc65-4896-bdc8-3267044234b2",
   "metadata": {},
   "outputs": [
    {
     "data": {
      "text/plain": [
       "<AxesSubplot:xlabel='city', ylabel='count'>"
      ]
     },
     "execution_count": 13,
     "metadata": {},
     "output_type": "execute_result"
    },
    {
     "data": {
      "image/png": "[encoded data removed]",
      "text/plain": [
       "<Figure size 1008x360 with 1 Axes>"
      ]
     },
     "metadata": {
      "needs_background": "light"
     },
     "output_type": "display_data"
    }
   ],
   "source": [
    "plt.figure(figsize=(14,5))\n",
    "sns.barplot(x=\"city\", y=\"count\", data=query(\"\"\"\n",
    "                                              SELECT\n",
    "                                              city\n",
    "                                              , COUNT(*)\n",
    "                                              FROM supermarket\n",
    "                                              GROUP BY city\n",
    "                                              \"\"\").sort_values(\"count\", ascending=False))"
   ]
  },
  {
   "cell_type": "markdown",
   "id": "af87d4ff-d316-4ae0-93c1-5cfa82282e5e",
   "metadata": {},
   "source": [
    "### 2.2.3 Gender"
   ]
  },
  {
   "cell_type": "code",
   "execution_count": 14,
   "id": "84c3a717-9d43-4aaf-ad15-99f7152a4d61",
   "metadata": {},
   "outputs": [
    {
     "data": {
      "text/html": [
       "<div>\n",
       "<style scoped>\n",
       "    .dataframe tbody tr th:only-of-type {\n",
       "        vertical-align: middle;\n",
       "    }\n",
       "\n",
       "    .dataframe tbody tr th {\n",
       "        vertical-align: top;\n",
       "    }\n",
       "\n",
       "    .dataframe thead th {\n",
       "        text-align: right;\n",
       "    }\n",
       "</style>\n",
       "<table border=\"1\" class=\"dataframe\">\n",
       "  <thead>\n",
       "    <tr style=\"text-align: right;\">\n",
       "      <th></th>\n",
       "      <th>gender</th>\n",
       "      <th>count</th>\n",
       "    </tr>\n",
       "  </thead>\n",
       "  <tbody>\n",
       "    <tr>\n",
       "      <th>0</th>\n",
       "      <td>Female</td>\n",
       "      <td>501</td>\n",
       "    </tr>\n",
       "    <tr>\n",
       "      <th>1</th>\n",
       "      <td>Male</td>\n",
       "      <td>499</td>\n",
       "    </tr>\n",
       "  </tbody>\n",
       "</table>\n",
       "</div>"
      ],
      "text/plain": [
       "   gender  count\n",
       "0  Female    501\n",
       "1    Male    499"
      ]
     },
     "execution_count": 14,
     "metadata": {},
     "output_type": "execute_result"
    }
   ],
   "source": [
    "query(\"\"\"\n",
    "      SELECT\n",
    "      gender\n",
    "      , COUNT(*)\n",
    "      FROM supermarket\n",
    "      GROUP BY gender\n",
    "      \"\"\")"
   ]
  },
  {
   "cell_type": "code",
   "execution_count": 15,
   "id": "a7f60ddf-4eac-4fe6-8b8d-caab5631895f",
   "metadata": {},
   "outputs": [
    {
     "data": {
      "text/plain": [
       "<AxesSubplot:xlabel='gender', ylabel='count'>"
      ]
     },
     "execution_count": 15,
     "metadata": {},
     "output_type": "execute_result"
    },
    {
     "data": {
      "image/png": "[encoded data removed]",
      "text/plain": [
       "<Figure size 1008x360 with 1 Axes>"
      ]
     },
     "metadata": {
      "needs_background": "light"
     },
     "output_type": "display_data"
    }
   ],
   "source": [
    "plt.figure(figsize=(14,5))\n",
    "sns.barplot(x=\"gender\", y=\"count\", data=query(\"\"\"\n",
    "                                              SELECT\n",
    "                                              gender\n",
    "                                              , COUNT(*)\n",
    "                                              FROM supermarket\n",
    "                                              GROUP BY gender\n",
    "                                              \"\"\").sort_values(\"count\", ascending=False))"
   ]
  },
  {
   "cell_type": "markdown",
   "id": "5e8ee2ae-3a81-4b66-80e8-a2a70c9d9bc5",
   "metadata": {},
   "source": [
    "### 2.2.4 Product line"
   ]
  },
  {
   "cell_type": "code",
   "execution_count": 16,
   "id": "62eb0f51-6196-4862-8e6c-91685e36ccfd",
   "metadata": {},
   "outputs": [
    {
     "data": {
      "text/html": [
       "<div>\n",
       "<style scoped>\n",
       "    .dataframe tbody tr th:only-of-type {\n",
       "        vertical-align: middle;\n",
       "    }\n",
       "\n",
       "    .dataframe tbody tr th {\n",
       "        vertical-align: top;\n",
       "    }\n",
       "\n",
       "    .dataframe thead th {\n",
       "        text-align: right;\n",
       "    }\n",
       "</style>\n",
       "<table border=\"1\" class=\"dataframe\">\n",
       "  <thead>\n",
       "    <tr style=\"text-align: right;\">\n",
       "      <th></th>\n",
       "      <th>product_line</th>\n",
       "      <th>count</th>\n",
       "    </tr>\n",
       "  </thead>\n",
       "  <tbody>\n",
       "    <tr>\n",
       "      <th>0</th>\n",
       "      <td>Fashion accessories</td>\n",
       "      <td>178</td>\n",
       "    </tr>\n",
       "    <tr>\n",
       "      <th>1</th>\n",
       "      <td>Electronic accessories</td>\n",
       "      <td>170</td>\n",
       "    </tr>\n",
       "    <tr>\n",
       "      <th>2</th>\n",
       "      <td>Health and beauty</td>\n",
       "      <td>152</td>\n",
       "    </tr>\n",
       "    <tr>\n",
       "      <th>3</th>\n",
       "      <td>Food and beverages</td>\n",
       "      <td>174</td>\n",
       "    </tr>\n",
       "    <tr>\n",
       "      <th>4</th>\n",
       "      <td>Sports and travel</td>\n",
       "      <td>166</td>\n",
       "    </tr>\n",
       "    <tr>\n",
       "      <th>5</th>\n",
       "      <td>Home and lifestyle</td>\n",
       "      <td>160</td>\n",
       "    </tr>\n",
       "  </tbody>\n",
       "</table>\n",
       "</div>"
      ],
      "text/plain": [
       "             product_line  count\n",
       "0     Fashion accessories    178\n",
       "1  Electronic accessories    170\n",
       "2       Health and beauty    152\n",
       "3      Food and beverages    174\n",
       "4       Sports and travel    166\n",
       "5      Home and lifestyle    160"
      ]
     },
     "execution_count": 16,
     "metadata": {},
     "output_type": "execute_result"
    }
   ],
   "source": [
    "query(\"\"\"\n",
    "      SELECT\n",
    "      product_line\n",
    "      , COUNT(*)\n",
    "      FROM supermarket\n",
    "      GROUP BY product_line\n",
    "      \"\"\")"
   ]
  },
  {
   "cell_type": "code",
   "execution_count": 17,
   "id": "f4ffd40a-be46-4bcf-87fd-9580aa8cca8b",
   "metadata": {},
   "outputs": [
    {
     "data": {
      "text/plain": [
       "<AxesSubplot:xlabel='product_line', ylabel='count'>"
      ]
     },
     "execution_count": 17,
     "metadata": {},
     "output_type": "execute_result"
    },
    {
     "data": {
      "image/png": "[encoded data removed]",
      "text/plain": [
       "<Figure size 1008x360 with 1 Axes>"
      ]
     },
     "metadata": {
      "needs_background": "light"
     },
     "output_type": "display_data"
    }
   ],
   "source": [
    "plt.figure(figsize=(14,5))\n",
    "sns.barplot(x=\"product_line\", y=\"count\", data=query(\"\"\"\n",
    "                                              SELECT\n",
    "                                              product_line\n",
    "                                              , COUNT(*)\n",
    "                                              FROM supermarket\n",
    "                                              GROUP BY product_line\n",
    "                                              \"\"\").sort_values(\"count\", ascending=False))"
   ]
  },
  {
   "cell_type": "markdown",
   "id": "f7ff2362-d639-4454-8046-b367113a1516",
   "metadata": {},
   "source": [
    "### 2.2.5 Payment type"
   ]
  },
  {
   "cell_type": "code",
   "execution_count": 18,
   "id": "7ff9a3a2-c099-4283-967f-4a7a9886bedb",
   "metadata": {},
   "outputs": [
    {
     "data": {
      "text/html": [
       "<div>\n",
       "<style scoped>\n",
       "    .dataframe tbody tr th:only-of-type {\n",
       "        vertical-align: middle;\n",
       "    }\n",
       "\n",
       "    .dataframe tbody tr th {\n",
       "        vertical-align: top;\n",
       "    }\n",
       "\n",
       "    .dataframe thead th {\n",
       "        text-align: right;\n",
       "    }\n",
       "</style>\n",
       "<table border=\"1\" class=\"dataframe\">\n",
       "  <thead>\n",
       "    <tr style=\"text-align: right;\">\n",
       "      <th></th>\n",
       "      <th>payment</th>\n",
       "      <th>count</th>\n",
       "    </tr>\n",
       "  </thead>\n",
       "  <tbody>\n",
       "    <tr>\n",
       "      <th>0</th>\n",
       "      <td>Credit card</td>\n",
       "      <td>311</td>\n",
       "    </tr>\n",
       "    <tr>\n",
       "      <th>1</th>\n",
       "      <td>Ewallet</td>\n",
       "      <td>345</td>\n",
       "    </tr>\n",
       "    <tr>\n",
       "      <th>2</th>\n",
       "      <td>Cash</td>\n",
       "      <td>344</td>\n",
       "    </tr>\n",
       "  </tbody>\n",
       "</table>\n",
       "</div>"
      ],
      "text/plain": [
       "       payment  count\n",
       "0  Credit card    311\n",
       "1      Ewallet    345\n",
       "2         Cash    344"
      ]
     },
     "execution_count": 18,
     "metadata": {},
     "output_type": "execute_result"
    }
   ],
   "source": [
    "query(\"\"\"\n",
    "      SELECT\n",
    "      payment\n",
    "      , COUNT(*)\n",
    "      FROM supermarket\n",
    "      GROUP BY payment\n",
    "      \"\"\")"
   ]
  },
  {
   "cell_type": "code",
   "execution_count": 19,
   "id": "a32281e5-d630-4925-a800-3cb11305ed4c",
   "metadata": {},
   "outputs": [
    {
     "data": {
      "text/plain": [
       "<AxesSubplot:xlabel='payment', ylabel='count'>"
      ]
     },
     "execution_count": 19,
     "metadata": {},
     "output_type": "execute_result"
    },
    {
     "data": {
      "image/png": "[encoded data removed]",
      "text/plain": [
       "<Figure size 1008x360 with 1 Axes>"
      ]
     },
     "metadata": {
      "needs_background": "light"
     },
     "output_type": "display_data"
    }
   ],
   "source": [
    "plt.figure(figsize=(14,5))\n",
    "sns.barplot(x=\"payment\", y=\"count\", data=query(\"\"\"\n",
    "                                              SELECT\n",
    "                                              payment\n",
    "                                              , COUNT(*)\n",
    "                                              FROM supermarket\n",
    "                                              GROUP BY payment\n",
    "                                              \"\"\").sort_values(\"count\", ascending=False))"
   ]
  },
  {
   "cell_type": "markdown",
   "id": "bb629dd3-390a-4708-87e0-00c4208bca7c",
   "metadata": {},
   "source": [
    "### 2.2.6 Customer type"
   ]
  },
  {
   "cell_type": "code",
   "execution_count": 20,
   "id": "eef1b45a-e04b-433b-be7a-a214544a5f93",
   "metadata": {},
   "outputs": [
    {
     "data": {
      "text/html": [
       "<div>\n",
       "<style scoped>\n",
       "    .dataframe tbody tr th:only-of-type {\n",
       "        vertical-align: middle;\n",
       "    }\n",
       "\n",
       "    .dataframe tbody tr th {\n",
       "        vertical-align: top;\n",
       "    }\n",
       "\n",
       "    .dataframe thead th {\n",
       "        text-align: right;\n",
       "    }\n",
       "</style>\n",
       "<table border=\"1\" class=\"dataframe\">\n",
       "  <thead>\n",
       "    <tr style=\"text-align: right;\">\n",
       "      <th></th>\n",
       "      <th>customer_type</th>\n",
       "      <th>count</th>\n",
       "    </tr>\n",
       "  </thead>\n",
       "  <tbody>\n",
       "    <tr>\n",
       "      <th>0</th>\n",
       "      <td>Normal</td>\n",
       "      <td>499</td>\n",
       "    </tr>\n",
       "    <tr>\n",
       "      <th>1</th>\n",
       "      <td>Member</td>\n",
       "      <td>501</td>\n",
       "    </tr>\n",
       "  </tbody>\n",
       "</table>\n",
       "</div>"
      ],
      "text/plain": [
       "  customer_type  count\n",
       "0        Normal    499\n",
       "1        Member    501"
      ]
     },
     "execution_count": 20,
     "metadata": {},
     "output_type": "execute_result"
    }
   ],
   "source": [
    "query(\"\"\"\n",
    "      SELECT\n",
    "      customer_type\n",
    "      , COUNT(*)\n",
    "      FROM supermarket\n",
    "      GROUP BY customer_type\n",
    "      \n",
    "      \"\"\")"
   ]
  },
  {
   "cell_type": "code",
   "execution_count": 21,
   "id": "aa87c54b-2af7-4988-812a-8ae28eb06924",
   "metadata": {},
   "outputs": [
    {
     "data": {
      "text/plain": [
       "<AxesSubplot:xlabel='customer_type', ylabel='count'>"
      ]
     },
     "execution_count": 21,
     "metadata": {},
     "output_type": "execute_result"
    },
    {
     "data": {
      "image/png": "[encoded data removed]",
      "text/plain": [
       "<Figure size 1008x360 with 1 Axes>"
      ]
     },
     "metadata": {
      "needs_background": "light"
     },
     "output_type": "display_data"
    }
   ],
   "source": [
    "plt.figure(figsize=(14,5))\n",
    "sns.barplot(x=\"customer_type\", y=\"count\", data=query(\"\"\"\n",
    "                                              SELECT\n",
    "                                              customer_type\n",
    "                                              , COUNT(*)\n",
    "                                              FROM supermarket\n",
    "                                              GROUP BY customer_type\n",
    "                                              \"\"\").sort_values(\"count\", ascending=False))"
   ]
  },
  {
   "cell_type": "code",
   "execution_count": 22,
   "id": "80b445c4-e823-456a-abfa-3939096a7334",
   "metadata": {},
   "outputs": [
    {
     "data": {
      "text/html": [
       "<div>\n",
       "<style scoped>\n",
       "    .dataframe tbody tr th:only-of-type {\n",
       "        vertical-align: middle;\n",
       "    }\n",
       "\n",
       "    .dataframe tbody tr th {\n",
       "        vertical-align: top;\n",
       "    }\n",
       "\n",
       "    .dataframe thead th {\n",
       "        text-align: right;\n",
       "    }\n",
       "</style>\n",
       "<table border=\"1\" class=\"dataframe\">\n",
       "  <thead>\n",
       "    <tr style=\"text-align: right;\">\n",
       "      <th></th>\n",
       "      <th>dupes</th>\n",
       "    </tr>\n",
       "  </thead>\n",
       "  <tbody>\n",
       "  </tbody>\n",
       "</table>\n",
       "</div>"
      ],
      "text/plain": [
       "Empty DataFrame\n",
       "Columns: [dupes]\n",
       "Index: []"
      ]
     },
     "execution_count": 22,
     "metadata": {},
     "output_type": "execute_result"
    }
   ],
   "source": [
    "query(\"\"\"\n",
    "      SELECT\n",
    "      COUNT(*) AS dupes\n",
    "      FROM supermarket\n",
    "      GROUP BY\n",
    "      branch\n",
    "        , city\n",
    "        , customer_type\n",
    "        , gender\n",
    "        , product_line\n",
    "        , unit_price\n",
    "        , quantity\n",
    "        , tax_5\n",
    "        , total\n",
    "        , purchase_date\n",
    "        , time\n",
    "        , payment\n",
    "        , cogs\n",
    "        , gross_margin_perct\n",
    "        , gross_income\n",
    "        , rating\n",
    "      HAVING COUNT(*) > 1\n",
    "      \n",
    "      \"\"\")"
   ]
  },
  {
   "cell_type": "markdown",
   "id": "b4519f6b-71ef-436e-a52e-89aa041cafce",
   "metadata": {},
   "source": [
    "### 2.2.7 Numerical variables"
   ]
  },
  {
   "cell_type": "code",
   "execution_count": 61,
   "id": "bafc1e4d-aa5e-4f9c-8a10-c295d61caff0",
   "metadata": {},
   "outputs": [
    {
     "data": {
      "text/html": [
       "<div>\n",
       "<style scoped>\n",
       "    .dataframe tbody tr th:only-of-type {\n",
       "        vertical-align: middle;\n",
       "    }\n",
       "\n",
       "    .dataframe tbody tr th {\n",
       "        vertical-align: top;\n",
       "    }\n",
       "\n",
       "    .dataframe thead th {\n",
       "        text-align: right;\n",
       "    }\n",
       "</style>\n",
       "<table border=\"1\" class=\"dataframe\">\n",
       "  <thead>\n",
       "    <tr style=\"text-align: right;\">\n",
       "      <th></th>\n",
       "      <th>?column?</th>\n",
       "    </tr>\n",
       "  </thead>\n",
       "  <tbody>\n",
       "    <tr>\n",
       "      <th>0</th>\n",
       "      <td>average</td>\n",
       "    </tr>\n",
       "  </tbody>\n",
       "</table>\n",
       "</div>"
      ],
      "text/plain": [
       "  ?column?\n",
       "0  average"
      ]
     },
     "execution_count": 61,
     "metadata": {},
     "output_type": "execute_result"
    }
   ],
   "source": [
    "query(\"\"\"\n",
    "    SELECT\n",
    "    'average'\n",
    "    \"\"\")"
   ]
  },
  {
   "cell_type": "code",
   "execution_count": 79,
   "id": "ff41e40a-e286-44f4-96ca-c16b748f6fbd",
   "metadata": {},
   "outputs": [
    {
     "data": {
      "text/html": [
       "<div>\n",
       "<style scoped>\n",
       "    .dataframe tbody tr th:only-of-type {\n",
       "        vertical-align: middle;\n",
       "    }\n",
       "\n",
       "    .dataframe tbody tr th {\n",
       "        vertical-align: top;\n",
       "    }\n",
       "\n",
       "    .dataframe thead th {\n",
       "        text-align: right;\n",
       "    }\n",
       "</style>\n",
       "<table border=\"1\" class=\"dataframe\">\n",
       "  <thead>\n",
       "    <tr style=\"text-align: right;\">\n",
       "      <th></th>\n",
       "      <th>metric</th>\n",
       "      <th>unit_price</th>\n",
       "      <th>quantity</th>\n",
       "      <th>total</th>\n",
       "      <th>cogs</th>\n",
       "      <th>gross_margin_perct</th>\n",
       "      <th>gross_income</th>\n",
       "      <th>rating</th>\n",
       "    </tr>\n",
       "  </thead>\n",
       "  <tbody>\n",
       "    <tr>\n",
       "      <th>0</th>\n",
       "      <td>average</td>\n",
       "      <td>55.672130</td>\n",
       "      <td>5.510000</td>\n",
       "      <td>322.966749</td>\n",
       "      <td>307.58738</td>\n",
       "      <td>4.761905</td>\n",
       "      <td>15.379369</td>\n",
       "      <td>6.97270</td>\n",
       "    </tr>\n",
       "    <tr>\n",
       "      <th>1</th>\n",
       "      <td>stdev</td>\n",
       "      <td>26.494628</td>\n",
       "      <td>2.923431</td>\n",
       "      <td>245.885335</td>\n",
       "      <td>234.17651</td>\n",
       "      <td>0.000000</td>\n",
       "      <td>11.708825</td>\n",
       "      <td>1.71858</td>\n",
       "    </tr>\n",
       "    <tr>\n",
       "      <th>2</th>\n",
       "      <td>min</td>\n",
       "      <td>10.080000</td>\n",
       "      <td>1.000000</td>\n",
       "      <td>10.678500</td>\n",
       "      <td>10.17000</td>\n",
       "      <td>4.761905</td>\n",
       "      <td>0.508500</td>\n",
       "      <td>4.00000</td>\n",
       "    </tr>\n",
       "    <tr>\n",
       "      <th>3</th>\n",
       "      <td>25%</td>\n",
       "      <td>32.875000</td>\n",
       "      <td>3.000000</td>\n",
       "      <td>124.422375</td>\n",
       "      <td>118.49750</td>\n",
       "      <td>4.761905</td>\n",
       "      <td>5.924875</td>\n",
       "      <td>5.50000</td>\n",
       "    </tr>\n",
       "    <tr>\n",
       "      <th>4</th>\n",
       "      <td>median</td>\n",
       "      <td>55.230000</td>\n",
       "      <td>5.000000</td>\n",
       "      <td>253.848000</td>\n",
       "      <td>241.76000</td>\n",
       "      <td>4.761905</td>\n",
       "      <td>12.088000</td>\n",
       "      <td>7.00000</td>\n",
       "    </tr>\n",
       "    <tr>\n",
       "      <th>5</th>\n",
       "      <td>75%</td>\n",
       "      <td>77.935000</td>\n",
       "      <td>8.000000</td>\n",
       "      <td>471.350250</td>\n",
       "      <td>448.90500</td>\n",
       "      <td>4.761905</td>\n",
       "      <td>22.445250</td>\n",
       "      <td>8.50000</td>\n",
       "    </tr>\n",
       "    <tr>\n",
       "      <th>6</th>\n",
       "      <td>max</td>\n",
       "      <td>99.960000</td>\n",
       "      <td>10.000000</td>\n",
       "      <td>1042.650000</td>\n",
       "      <td>993.00000</td>\n",
       "      <td>4.761905</td>\n",
       "      <td>49.650000</td>\n",
       "      <td>10.00000</td>\n",
       "    </tr>\n",
       "  </tbody>\n",
       "</table>\n",
       "</div>"
      ],
      "text/plain": [
       "    metric  unit_price   quantity        total       cogs  gross_margin_perct  \\\n",
       "0  average   55.672130   5.510000   322.966749  307.58738            4.761905   \n",
       "1    stdev   26.494628   2.923431   245.885335  234.17651            0.000000   \n",
       "2      min   10.080000   1.000000    10.678500   10.17000            4.761905   \n",
       "3      25%   32.875000   3.000000   124.422375  118.49750            4.761905   \n",
       "4   median   55.230000   5.000000   253.848000  241.76000            4.761905   \n",
       "5      75%   77.935000   8.000000   471.350250  448.90500            4.761905   \n",
       "6      max   99.960000  10.000000  1042.650000  993.00000            4.761905   \n",
       "\n",
       "   gross_income    rating  \n",
       "0     15.379369   6.97270  \n",
       "1     11.708825   1.71858  \n",
       "2      0.508500   4.00000  \n",
       "3      5.924875   5.50000  \n",
       "4     12.088000   7.00000  \n",
       "5     22.445250   8.50000  \n",
       "6     49.650000  10.00000  "
      ]
     },
     "execution_count": 79,
     "metadata": {},
     "output_type": "execute_result"
    }
   ],
   "source": [
    "query(\"\"\"\n",
    "      SELECT\n",
    "      'average' AS metric\n",
    "      , AVG(unit_price) AS unit_price\n",
    "      , AVG(quantity) AS quantity\n",
    "      , AVG(total) AS total\n",
    "      , AVG(cogs) AS cogs\n",
    "      , AVG(gross_margin_perct) AS gross_margin_perct\n",
    "      , AVG(gross_income) AS gross_income\n",
    "      , AVG(rating) AS rating\n",
    "      FROM supermarket\n",
    "      \n",
    "      UNION ALL\n",
    "      SELECT\n",
    "      'stdev' AS metric\n",
    "      , STDDEV(unit_price) AS unit_price\n",
    "      , STDDEV(quantity) AS quantity\n",
    "      , STDDEV(total) AS total\n",
    "      , STDDEV(cogs) AS cogs\n",
    "      , STDDEV(gross_margin_perct) AS gross_margin_perct\n",
    "      , STDDEV(gross_income) AS gross_income\n",
    "      , STDDEV(rating) AS rating\n",
    "      FROM supermarket\n",
    "      \n",
    "      UNION ALL\n",
    "      SELECT\n",
    "      'min' AS metric\n",
    "      , MIN(unit_price) AS unit_price\n",
    "      , MIN(quantity) AS quantity\n",
    "      , MIN(total) AS total\n",
    "      , MIN(cogs) AS cogs\n",
    "      , MIN(gross_margin_perct) AS gross_margin_perct\n",
    "      , MIN(gross_income) AS gross_income\n",
    "      , MIN(rating) AS rating\n",
    "      FROM supermarket\n",
    "      \n",
    "      UNION ALL\n",
    "      SELECT\n",
    "      '25%%' AS metric\n",
    "      , percentile_cont(.25) WITHIN GROUP (ORDER BY unit_price) AS unit_price\n",
    "      , percentile_cont(.25) WITHIN GROUP (ORDER BY quantity) AS quantity\n",
    "      , percentile_cont(.25) WITHIN GROUP (ORDER BY total) AS total\n",
    "      , percentile_cont(.25) WITHIN GROUP (ORDER BY cogs) AS cogs\n",
    "      , percentile_cont(.25) WITHIN GROUP (ORDER BY gross_margin_perct) AS gross_margin_perct\n",
    "      , percentile_cont(.25) WITHIN GROUP (ORDER BY gross_income) AS gross_income\n",
    "      , percentile_cont(.25) WITHIN GROUP (ORDER BY rating) AS rating\n",
    "      FROM supermarket\n",
    "      \n",
    "      UNION ALL\n",
    "      SELECT\n",
    "      'median' AS metric\n",
    "      , percentile_cont(.5) WITHIN GROUP (ORDER BY unit_price) AS unit_price\n",
    "      , percentile_cont(.5) WITHIN GROUP (ORDER BY quantity) AS quantity\n",
    "      , percentile_cont(.5) WITHIN GROUP (ORDER BY total) AS total\n",
    "      , percentile_cont(.5) WITHIN GROUP (ORDER BY cogs) AS cogs\n",
    "      , percentile_cont(.5) WITHIN GROUP (ORDER BY gross_margin_perct) AS gross_margin_perct\n",
    "      , percentile_cont(.5) WITHIN GROUP (ORDER BY gross_income) AS gross_income\n",
    "      , percentile_cont(.5) WITHIN GROUP (ORDER BY rating) AS rating\n",
    "      FROM supermarket\n",
    "      \n",
    "      UNION ALL\n",
    "      SELECT\n",
    "      '75%%' AS metric\n",
    "      , percentile_cont(.75) WITHIN GROUP (ORDER BY unit_price) AS unit_price\n",
    "      , percentile_cont(.75) WITHIN GROUP (ORDER BY quantity) AS quantity\n",
    "      , percentile_cont(.75) WITHIN GROUP (ORDER BY total) AS total\n",
    "      , percentile_cont(.75) WITHIN GROUP (ORDER BY cogs) AS cogs\n",
    "      , percentile_cont(.75) WITHIN GROUP (ORDER BY gross_margin_perct) AS gross_margin_perct\n",
    "      , percentile_cont(.75) WITHIN GROUP (ORDER BY gross_income) AS gross_income\n",
    "      , percentile_cont(.75) WITHIN GROUP (ORDER BY rating) AS rating\n",
    "      FROM supermarket\n",
    "         \n",
    "      UNION ALL\n",
    "      SELECT\n",
    "      'max' AS metric\n",
    "      , MAX(unit_price) AS unit_price\n",
    "      , MAX(quantity) AS quantity\n",
    "      , MAX(total) AS total\n",
    "      , MAX(cogs) AS cogs\n",
    "      , MAX(gross_margin_perct) AS gross_margin_perct\n",
    "      , MAX(gross_income) AS gross_income\n",
    "      , MAX(rating) AS rating\n",
    "      FROM supermarket\n",
    "      \"\"\")"
   ]
  },
  {
   "cell_type": "code",
   "execution_count": 24,
   "id": "1894b891-0afc-4b9a-b637-69d0adfd4449",
   "metadata": {},
   "outputs": [
    {
     "data": {
      "text/html": [
       "<div>\n",
       "<style scoped>\n",
       "    .dataframe tbody tr th:only-of-type {\n",
       "        vertical-align: middle;\n",
       "    }\n",
       "\n",
       "    .dataframe tbody tr th {\n",
       "        vertical-align: top;\n",
       "    }\n",
       "\n",
       "    .dataframe thead th {\n",
       "        text-align: right;\n",
       "    }\n",
       "</style>\n",
       "<table border=\"1\" class=\"dataframe\">\n",
       "  <thead>\n",
       "    <tr style=\"text-align: right;\">\n",
       "      <th></th>\n",
       "      <th>gross_margin_perct</th>\n",
       "    </tr>\n",
       "  </thead>\n",
       "  <tbody>\n",
       "  </tbody>\n",
       "</table>\n",
       "</div>"
      ],
      "text/plain": [
       "Empty DataFrame\n",
       "Columns: [gross_margin_perct]\n",
       "Index: []"
      ]
     },
     "execution_count": 24,
     "metadata": {},
     "output_type": "execute_result"
    }
   ],
   "source": [
    "query(\"\"\"\n",
    "      SELECT\n",
    "      gross_margin_perct\n",
    "      FROM supermarket\n",
    "      WHERE gross_margin_perct != 4.761904762\n",
    "      \"\"\")"
   ]
  },
  {
   "cell_type": "markdown",
   "id": "d5fe929f-38f4-4f02-a4c8-9d5c7ec5d3d6",
   "metadata": {},
   "source": [
    "This variable doesn't change, therefore we can't extract much information from it. We'll ignore it from here on out."
   ]
  },
  {
   "cell_type": "code",
   "execution_count": 25,
   "id": "382ca39a-f810-4177-9368-fd1303bf9124",
   "metadata": {},
   "outputs": [
    {
     "data": {
      "text/plain": [
       "<AxesSubplot:>"
      ]
     },
     "execution_count": 25,
     "metadata": {},
     "output_type": "execute_result"
    },
    {
     "data": {
      "image/png": "[encoded data removed]",
      "text/plain": [
       "<Figure size 1152x432 with 2 Axes>"
      ]
     },
     "metadata": {
      "needs_background": "light"
     },
     "output_type": "display_data"
    }
   ],
   "source": [
    "numeric_var = query(\"\"\"\n",
    "    SELECT\n",
    "      unit_price\n",
    "      , quantity\n",
    "      , total\n",
    "      , cogs\n",
    "      , gross_income\n",
    "      , rating\n",
    "      FROM supermarket\"\"\")\n",
    "\n",
    "plt.figure(figsize=(16,6))\n",
    "\n",
    "sns.heatmap(numeric_var.corr(), cmap=\"YlGnBu\", annot=True)"
   ]
  },
  {
   "cell_type": "code",
   "execution_count": 26,
   "id": "aebf43c0-acbb-4a49-be62-d76fcd4627dd",
   "metadata": {},
   "outputs": [
    {
     "data": {
      "text/html": [
       "<div>\n",
       "<style scoped>\n",
       "    .dataframe tbody tr th:only-of-type {\n",
       "        vertical-align: middle;\n",
       "    }\n",
       "\n",
       "    .dataframe tbody tr th {\n",
       "        vertical-align: top;\n",
       "    }\n",
       "\n",
       "    .dataframe thead th {\n",
       "        text-align: right;\n",
       "    }\n",
       "</style>\n",
       "<table border=\"1\" class=\"dataframe\">\n",
       "  <thead>\n",
       "    <tr style=\"text-align: right;\">\n",
       "      <th></th>\n",
       "      <th>lower_third</th>\n",
       "      <th>mid_third</th>\n",
       "      <th>upper_third</th>\n",
       "    </tr>\n",
       "  </thead>\n",
       "  <tbody>\n",
       "    <tr>\n",
       "      <th>0</th>\n",
       "      <td>39.8505</td>\n",
       "      <td>71.647</td>\n",
       "      <td>99.7102</td>\n",
       "    </tr>\n",
       "  </tbody>\n",
       "</table>\n",
       "</div>"
      ],
      "text/plain": [
       "   lower_third  mid_third  upper_third\n",
       "0      39.8505     71.647      99.7102"
      ]
     },
     "execution_count": 26,
     "metadata": {},
     "output_type": "execute_result"
    }
   ],
   "source": [
    "query(\"\"\"\n",
    "      SELECT\n",
    "      percentile_cont(.33) WITHIN GROUP (ORDER BY unit_price) AS lower_third\n",
    "      , percentile_cont(.66) WITHIN GROUP (ORDER BY unit_price) AS mid_third\n",
    "      , percentile_cont(.99) WITHIN GROUP (ORDER BY unit_price) AS upper_third\n",
    "      FROM supermarket\n",
    "      \"\"\")"
   ]
  },
  {
   "cell_type": "code",
   "execution_count": 27,
   "id": "a5e090ff-8925-448f-8f5b-b49463ecc7a1",
   "metadata": {},
   "outputs": [
    {
     "data": {
      "text/plain": [
       "<AxesSubplot:xlabel='unit_price', ylabel='quantity'>"
      ]
     },
     "execution_count": 27,
     "metadata": {},
     "output_type": "execute_result"
    },
    {
     "data": {
      "image/png": "[encoded data removed]",
      "text/plain": [
       "<Figure size 1008x360 with 1 Axes>"
      ]
     },
     "metadata": {
      "needs_background": "light"
     },
     "output_type": "display_data"
    }
   ],
   "source": [
    "plt.figure(figsize=(14,5))\n",
    "\n",
    "sns.boxplot(y=\"quantity\", x=\"unit_price\", data=query(\"\"\"\n",
    "                                                            SELECT\n",
    "                                                            CASE\n",
    "                                                                WHEN unit_price BETWEEN 0 AND 39.8505 THEN 'lower_third'\n",
    "                                                                WHEN unit_price BETWEEN 39.8505 AND 71.647 THEN 'mid_third'\n",
    "                                                                WHEN unit_price BETWEEN 71.647 AND 99.7102 THEN 'upper_third'\n",
    "                                                            END AS unit_price\n",
    "                                                            -- unit_price\n",
    "                                                            , quantity\n",
    "                                                            FROM supermarket\n",
    "                                                            \"\"\"))"
   ]
  },
  {
   "cell_type": "code",
   "execution_count": 28,
   "id": "af4d3b78-3778-40a3-9f1a-89a47d1b2644",
   "metadata": {},
   "outputs": [
    {
     "data": {
      "text/html": [
       "<div>\n",
       "<style scoped>\n",
       "    .dataframe tbody tr th:only-of-type {\n",
       "        vertical-align: middle;\n",
       "    }\n",
       "\n",
       "    .dataframe tbody tr th {\n",
       "        vertical-align: top;\n",
       "    }\n",
       "\n",
       "    .dataframe thead th {\n",
       "        text-align: right;\n",
       "    }\n",
       "</style>\n",
       "<table border=\"1\" class=\"dataframe\">\n",
       "  <thead>\n",
       "    <tr style=\"text-align: right;\">\n",
       "      <th></th>\n",
       "      <th>unit_price</th>\n",
       "      <th>avg</th>\n",
       "      <th>percentile_cont</th>\n",
       "    </tr>\n",
       "  </thead>\n",
       "  <tbody>\n",
       "    <tr>\n",
       "      <th>0</th>\n",
       "      <td>lower_third</td>\n",
       "      <td>5.448485</td>\n",
       "      <td>5.0</td>\n",
       "    </tr>\n",
       "    <tr>\n",
       "      <th>1</th>\n",
       "      <td>mid_third</td>\n",
       "      <td>5.466667</td>\n",
       "      <td>5.0</td>\n",
       "    </tr>\n",
       "    <tr>\n",
       "      <th>2</th>\n",
       "      <td>upper_third</td>\n",
       "      <td>5.609091</td>\n",
       "      <td>6.0</td>\n",
       "    </tr>\n",
       "    <tr>\n",
       "      <th>3</th>\n",
       "      <td>None</td>\n",
       "      <td>5.700000</td>\n",
       "      <td>6.0</td>\n",
       "    </tr>\n",
       "  </tbody>\n",
       "</table>\n",
       "</div>"
      ],
      "text/plain": [
       "    unit_price       avg  percentile_cont\n",
       "0  lower_third  5.448485              5.0\n",
       "1    mid_third  5.466667              5.0\n",
       "2  upper_third  5.609091              6.0\n",
       "3         None  5.700000              6.0"
      ]
     },
     "execution_count": 28,
     "metadata": {},
     "output_type": "execute_result"
    }
   ],
   "source": [
    "query(\"\"\"\n",
    "                                                            WITH ranked_prices AS(\n",
    "                                                            SELECT\n",
    "                                                            CASE\n",
    "                                                                WHEN unit_price BETWEEN 0 AND 39.8505 THEN 'lower_third'\n",
    "                                                                WHEN unit_price BETWEEN 39.8505 AND 71.647 THEN 'mid_third'\n",
    "                                                                WHEN unit_price BETWEEN 71.647 AND 99.7102 THEN 'upper_third'\n",
    "                                                            END AS unit_price\n",
    "                                                            -- unit_price\n",
    "                                                            , quantity\n",
    "                                                            FROM supermarket\n",
    "                                                            )\n",
    "                                                            SELECT\n",
    "                                                            unit_price\n",
    "                                                            , AVG(quantity)\n",
    "                                                            , percentile_cont(.5) WITHIN GROUP (ORDER BY quantity)\n",
    "                                                            FROM ranked_prices\n",
    "                                                            GROUP BY unit_price\n",
    "                                                            \"\"\")"
   ]
  },
  {
   "cell_type": "code",
   "execution_count": 29,
   "id": "debfd180-4ae9-4ca1-98da-8c3f4f8c1f15",
   "metadata": {},
   "outputs": [
    {
     "data": {
      "text/html": [
       "<div>\n",
       "<style scoped>\n",
       "    .dataframe tbody tr th:only-of-type {\n",
       "        vertical-align: middle;\n",
       "    }\n",
       "\n",
       "    .dataframe tbody tr th {\n",
       "        vertical-align: top;\n",
       "    }\n",
       "\n",
       "    .dataframe thead th {\n",
       "        text-align: right;\n",
       "    }\n",
       "</style>\n",
       "<table border=\"1\" class=\"dataframe\">\n",
       "  <thead>\n",
       "    <tr style=\"text-align: right;\">\n",
       "      <th></th>\n",
       "      <th>payment</th>\n",
       "      <th>total_avg</th>\n",
       "      <th>total_stdev</th>\n",
       "      <th>total_median</th>\n",
       "      <th>total_5centile</th>\n",
       "      <th>total_95centile</th>\n",
       "    </tr>\n",
       "  </thead>\n",
       "  <tbody>\n",
       "    <tr>\n",
       "      <th>0</th>\n",
       "      <td>Cash</td>\n",
       "      <td>326.181890</td>\n",
       "      <td>242.660640</td>\n",
       "      <td>262.962</td>\n",
       "      <td>41.40045</td>\n",
       "      <td>816.507825</td>\n",
       "    </tr>\n",
       "    <tr>\n",
       "      <th>1</th>\n",
       "      <td>Credit card</td>\n",
       "      <td>324.009878</td>\n",
       "      <td>257.106200</td>\n",
       "      <td>239.589</td>\n",
       "      <td>37.08075</td>\n",
       "      <td>839.669250</td>\n",
       "    </tr>\n",
       "    <tr>\n",
       "      <th>2</th>\n",
       "      <td>Ewallet</td>\n",
       "      <td>318.820600</td>\n",
       "      <td>239.305694</td>\n",
       "      <td>253.680</td>\n",
       "      <td>53.45760</td>\n",
       "      <td>803.812800</td>\n",
       "    </tr>\n",
       "  </tbody>\n",
       "</table>\n",
       "</div>"
      ],
      "text/plain": [
       "       payment   total_avg  total_stdev  total_median  total_5centile  \\\n",
       "0         Cash  326.181890   242.660640       262.962        41.40045   \n",
       "1  Credit card  324.009878   257.106200       239.589        37.08075   \n",
       "2      Ewallet  318.820600   239.305694       253.680        53.45760   \n",
       "\n",
       "   total_95centile  \n",
       "0       816.507825  \n",
       "1       839.669250  \n",
       "2       803.812800  "
      ]
     },
     "execution_count": 29,
     "metadata": {},
     "output_type": "execute_result"
    }
   ],
   "source": [
    "query(\"\"\"\n",
    "      SELECT\n",
    "      payment\n",
    "      , AVG(total) AS total_avg\n",
    "      , STDDEV(total) AS total_stdev\n",
    "      , percentile_cont(.5) WITHIN GROUP (ORDER BY total) AS total_median\n",
    "      , percentile_cont(0.05) WITHIN GROUP (ORDER BY total) AS total_5centile\n",
    "      , percentile_cont(0.95) WITHIN GROUP (ORDER BY total) AS total_95centile\n",
    "      FROM supermarket\n",
    "      GROUP BY payment \n",
    "      \"\"\")"
   ]
  },
  {
   "cell_type": "code",
   "execution_count": 30,
   "id": "aaa55bec-f899-42b7-a1f3-5d022a5f08ff",
   "metadata": {},
   "outputs": [
    {
     "data": {
      "text/html": [
       "<div>\n",
       "<style scoped>\n",
       "    .dataframe tbody tr th:only-of-type {\n",
       "        vertical-align: middle;\n",
       "    }\n",
       "\n",
       "    .dataframe tbody tr th {\n",
       "        vertical-align: top;\n",
       "    }\n",
       "\n",
       "    .dataframe thead th {\n",
       "        text-align: right;\n",
       "    }\n",
       "</style>\n",
       "<table border=\"1\" class=\"dataframe\">\n",
       "  <thead>\n",
       "    <tr style=\"text-align: right;\">\n",
       "      <th></th>\n",
       "      <th>city</th>\n",
       "      <th>total_avg</th>\n",
       "      <th>total_stdev</th>\n",
       "      <th>total_median</th>\n",
       "      <th>total_5centile</th>\n",
       "      <th>total_95centile</th>\n",
       "    </tr>\n",
       "  </thead>\n",
       "  <tbody>\n",
       "    <tr>\n",
       "      <th>0</th>\n",
       "      <td>Mandalay</td>\n",
       "      <td>319.872506</td>\n",
       "      <td>242.447565</td>\n",
       "      <td>252.88200</td>\n",
       "      <td>48.40395</td>\n",
       "      <td>802.96020</td>\n",
       "    </tr>\n",
       "    <tr>\n",
       "      <th>1</th>\n",
       "      <td>Naypyitaw</td>\n",
       "      <td>337.099715</td>\n",
       "      <td>263.160870</td>\n",
       "      <td>271.41975</td>\n",
       "      <td>32.86710</td>\n",
       "      <td>866.54925</td>\n",
       "    </tr>\n",
       "    <tr>\n",
       "      <th>2</th>\n",
       "      <td>Yangon</td>\n",
       "      <td>312.354031</td>\n",
       "      <td>231.640025</td>\n",
       "      <td>240.82800</td>\n",
       "      <td>43.70205</td>\n",
       "      <td>771.82875</td>\n",
       "    </tr>\n",
       "  </tbody>\n",
       "</table>\n",
       "</div>"
      ],
      "text/plain": [
       "        city   total_avg  total_stdev  total_median  total_5centile  \\\n",
       "0   Mandalay  319.872506   242.447565     252.88200        48.40395   \n",
       "1  Naypyitaw  337.099715   263.160870     271.41975        32.86710   \n",
       "2     Yangon  312.354031   231.640025     240.82800        43.70205   \n",
       "\n",
       "   total_95centile  \n",
       "0        802.96020  \n",
       "1        866.54925  \n",
       "2        771.82875  "
      ]
     },
     "execution_count": 30,
     "metadata": {},
     "output_type": "execute_result"
    }
   ],
   "source": [
    "query(\"\"\"\n",
    "      SELECT\n",
    "      city\n",
    "      , AVG(total) AS total_avg\n",
    "      , STDDEV(total) AS total_stdev\n",
    "      , percentile_cont(.5) WITHIN GROUP (ORDER BY total) AS total_median\n",
    "      , percentile_cont(0.05) WITHIN GROUP (ORDER BY total) AS total_5centile\n",
    "      , percentile_cont(0.95) WITHIN GROUP (ORDER BY total) AS total_95centile\n",
    "      FROM supermarket\n",
    "      GROUP BY city \n",
    "      \"\"\")"
   ]
  },
  {
   "cell_type": "code",
   "execution_count": 31,
   "id": "1c93616b-e1d5-4667-a17d-1132323e5b32",
   "metadata": {},
   "outputs": [
    {
     "data": {
      "text/html": [
       "<div>\n",
       "<style scoped>\n",
       "    .dataframe tbody tr th:only-of-type {\n",
       "        vertical-align: middle;\n",
       "    }\n",
       "\n",
       "    .dataframe tbody tr th {\n",
       "        vertical-align: top;\n",
       "    }\n",
       "\n",
       "    .dataframe thead th {\n",
       "        text-align: right;\n",
       "    }\n",
       "</style>\n",
       "<table border=\"1\" class=\"dataframe\">\n",
       "  <thead>\n",
       "    <tr style=\"text-align: right;\">\n",
       "      <th></th>\n",
       "      <th>customer_type</th>\n",
       "      <th>total_avg</th>\n",
       "      <th>total_stdev</th>\n",
       "      <th>total_median</th>\n",
       "      <th>total_5centile</th>\n",
       "      <th>total_95centile</th>\n",
       "    </tr>\n",
       "  </thead>\n",
       "  <tbody>\n",
       "    <tr>\n",
       "      <th>0</th>\n",
       "      <td>Member</td>\n",
       "      <td>327.791305</td>\n",
       "      <td>247.993782</td>\n",
       "      <td>266.028</td>\n",
       "      <td>41.454</td>\n",
       "      <td>829.0800</td>\n",
       "    </tr>\n",
       "    <tr>\n",
       "      <th>1</th>\n",
       "      <td>Normal</td>\n",
       "      <td>318.122856</td>\n",
       "      <td>243.902800</td>\n",
       "      <td>237.426</td>\n",
       "      <td>40.362</td>\n",
       "      <td>814.6656</td>\n",
       "    </tr>\n",
       "  </tbody>\n",
       "</table>\n",
       "</div>"
      ],
      "text/plain": [
       "  customer_type   total_avg  total_stdev  total_median  total_5centile  \\\n",
       "0        Member  327.791305   247.993782       266.028          41.454   \n",
       "1        Normal  318.122856   243.902800       237.426          40.362   \n",
       "\n",
       "   total_95centile  \n",
       "0         829.0800  \n",
       "1         814.6656  "
      ]
     },
     "execution_count": 31,
     "metadata": {},
     "output_type": "execute_result"
    }
   ],
   "source": [
    "query(\"\"\"\n",
    "      SELECT\n",
    "      customer_type\n",
    "      , AVG(total) AS total_avg\n",
    "      , STDDEV(total) AS total_stdev\n",
    "      , percentile_cont(.5) WITHIN GROUP (ORDER BY total) AS total_median\n",
    "      , percentile_cont(0.05) WITHIN GROUP (ORDER BY total) AS total_5centile\n",
    "      , percentile_cont(0.95) WITHIN GROUP (ORDER BY total) AS total_95centile\n",
    "      FROM supermarket\n",
    "      GROUP BY customer_type \n",
    "      \"\"\")"
   ]
  },
  {
   "cell_type": "code",
   "execution_count": 32,
   "id": "a9dfdfa4-df92-4828-822b-2ee209b098c2",
   "metadata": {},
   "outputs": [
    {
     "data": {
      "text/html": [
       "<div>\n",
       "<style scoped>\n",
       "    .dataframe tbody tr th:only-of-type {\n",
       "        vertical-align: middle;\n",
       "    }\n",
       "\n",
       "    .dataframe tbody tr th {\n",
       "        vertical-align: top;\n",
       "    }\n",
       "\n",
       "    .dataframe thead th {\n",
       "        text-align: right;\n",
       "    }\n",
       "</style>\n",
       "<table border=\"1\" class=\"dataframe\">\n",
       "  <thead>\n",
       "    <tr style=\"text-align: right;\">\n",
       "      <th></th>\n",
       "      <th>gender</th>\n",
       "      <th>sales_by_gender</th>\n",
       "    </tr>\n",
       "  </thead>\n",
       "  <tbody>\n",
       "    <tr>\n",
       "      <th>0</th>\n",
       "      <td>Female</td>\n",
       "      <td>501</td>\n",
       "    </tr>\n",
       "    <tr>\n",
       "      <th>1</th>\n",
       "      <td>Male</td>\n",
       "      <td>499</td>\n",
       "    </tr>\n",
       "  </tbody>\n",
       "</table>\n",
       "</div>"
      ],
      "text/plain": [
       "   gender  sales_by_gender\n",
       "0  Female              501\n",
       "1    Male              499"
      ]
     },
     "execution_count": 32,
     "metadata": {},
     "output_type": "execute_result"
    }
   ],
   "source": [
    "query(\"\"\"\n",
    "      SELECT\n",
    "      gender\n",
    "      , COUNT(*) AS sales_by_gender\n",
    "      FROM supermarket\n",
    "      GROUP BY gender\n",
    "      \"\"\")"
   ]
  },
  {
   "cell_type": "markdown",
   "id": "f3c01f42-e7ce-4a76-bed8-2df88e306079",
   "metadata": {},
   "source": [
    "We can see we have only 2 more women than men. The quantity is almost the same between them."
   ]
  },
  {
   "cell_type": "code",
   "execution_count": 33,
   "id": "5b342a99-bbd8-4b6d-972b-9f2c77e76a18",
   "metadata": {},
   "outputs": [
    {
     "data": {
      "text/html": [
       "<div>\n",
       "<style scoped>\n",
       "    .dataframe tbody tr th:only-of-type {\n",
       "        vertical-align: middle;\n",
       "    }\n",
       "\n",
       "    .dataframe tbody tr th {\n",
       "        vertical-align: top;\n",
       "    }\n",
       "\n",
       "    .dataframe thead th {\n",
       "        text-align: right;\n",
       "    }\n",
       "</style>\n",
       "<table border=\"1\" class=\"dataframe\">\n",
       "  <thead>\n",
       "    <tr style=\"text-align: right;\">\n",
       "      <th></th>\n",
       "      <th>min</th>\n",
       "      <th>max</th>\n",
       "    </tr>\n",
       "  </thead>\n",
       "  <tbody>\n",
       "    <tr>\n",
       "      <th>0</th>\n",
       "      <td>2019-01-01</td>\n",
       "      <td>2019-03-30</td>\n",
       "    </tr>\n",
       "  </tbody>\n",
       "</table>\n",
       "</div>"
      ],
      "text/plain": [
       "          min         max\n",
       "0  2019-01-01  2019-03-30"
      ]
     },
     "execution_count": 33,
     "metadata": {},
     "output_type": "execute_result"
    }
   ],
   "source": [
    "query(\"\"\"\n",
    "      SELECT\n",
    "      MIN(purchase_date)\n",
    "      , MAX(purchase_date)\n",
    "      FROM supermarket\n",
    "      \"\"\")"
   ]
  },
  {
   "cell_type": "code",
   "execution_count": 34,
   "id": "a6e356a9-440f-48ef-9570-4eb388524771",
   "metadata": {},
   "outputs": [
    {
     "data": {
      "text/plain": [
       "<AxesSubplot:xlabel='purchase_date', ylabel='sum'>"
      ]
     },
     "execution_count": 34,
     "metadata": {},
     "output_type": "execute_result"
    },
    {
     "data": {
      "image/png": "[encoded data removed]",
      "text/plain": [
       "<Figure size 1008x288 with 1 Axes>"
      ]
     },
     "metadata": {
      "needs_background": "light"
     },
     "output_type": "display_data"
    }
   ],
   "source": [
    "fig, ax = plt.subplots(figsize=(14,4))\n",
    "sns.lineplot(data=query(\"\"\"\n",
    "      SELECT\n",
    "      TO_CHAR(purchase_date, 'Month') AS purchase_date\n",
    "      , EXTRACT('Month' FROM purchase_date) AS month\n",
    "      , city\n",
    "      , SUM(total)\n",
    "      FROM supermarket\n",
    "      GROUP BY purchase_date, city\n",
    "      ORDER BY month\n",
    "      \"\"\"), x=\"purchase_date\", y=\"sum\", hue=\"city\", ci=False)"
   ]
  },
  {
   "cell_type": "code",
   "execution_count": 35,
   "id": "02629498-75b3-4de1-92c4-addcf8eb85f6",
   "metadata": {},
   "outputs": [
    {
     "data": {
      "text/plain": [
       "<AxesSubplot:xlabel='purchase_date', ylabel='sum'>"
      ]
     },
     "execution_count": 35,
     "metadata": {},
     "output_type": "execute_result"
    },
    {
     "data": {
      "image/png": "[encoded data removed]",
      "text/plain": [
       "<Figure size 1008x288 with 1 Axes>"
      ]
     },
     "metadata": {
      "needs_background": "light"
     },
     "output_type": "display_data"
    }
   ],
   "source": [
    "fig, ax = plt.subplots(figsize=(14,4))\n",
    "sns.lineplot(data=query(\"\"\"\n",
    "      SELECT\n",
    "      TO_CHAR(purchase_date, 'Month') AS purchase_date\n",
    "      , EXTRACT('Month' FROM purchase_date) AS month\n",
    "      , payment\n",
    "      , SUM(total)\n",
    "      FROM supermarket\n",
    "      GROUP BY purchase_date, payment, month\n",
    "      ORDER BY month\n",
    "      \"\"\"), x=\"purchase_date\", y=\"sum\", hue=\"payment\", ci=False)"
   ]
  },
  {
   "cell_type": "code",
   "execution_count": 36,
   "id": "c55f5f72-6954-4582-bbf8-b13d76e32975",
   "metadata": {},
   "outputs": [
    {
     "data": {
      "text/html": [
       "<div>\n",
       "<style scoped>\n",
       "    .dataframe tbody tr th:only-of-type {\n",
       "        vertical-align: middle;\n",
       "    }\n",
       "\n",
       "    .dataframe tbody tr th {\n",
       "        vertical-align: top;\n",
       "    }\n",
       "\n",
       "    .dataframe thead th {\n",
       "        text-align: right;\n",
       "    }\n",
       "</style>\n",
       "<table border=\"1\" class=\"dataframe\">\n",
       "  <thead>\n",
       "    <tr style=\"text-align: right;\">\n",
       "      <th></th>\n",
       "      <th>branch</th>\n",
       "      <th>gender</th>\n",
       "      <th>quantity_sum</th>\n",
       "      <th>quantity_avg</th>\n",
       "      <th>quantity_median</th>\n",
       "    </tr>\n",
       "  </thead>\n",
       "  <tbody>\n",
       "    <tr>\n",
       "      <th>0</th>\n",
       "      <td>A</td>\n",
       "      <td>Female</td>\n",
       "      <td>909</td>\n",
       "      <td>5.65</td>\n",
       "      <td>5.0</td>\n",
       "    </tr>\n",
       "    <tr>\n",
       "      <th>1</th>\n",
       "      <td>A</td>\n",
       "      <td>Male</td>\n",
       "      <td>950</td>\n",
       "      <td>5.31</td>\n",
       "      <td>5.0</td>\n",
       "    </tr>\n",
       "    <tr>\n",
       "      <th>2</th>\n",
       "      <td>B</td>\n",
       "      <td>Female</td>\n",
       "      <td>911</td>\n",
       "      <td>5.62</td>\n",
       "      <td>6.0</td>\n",
       "    </tr>\n",
       "    <tr>\n",
       "      <th>3</th>\n",
       "      <td>B</td>\n",
       "      <td>Male</td>\n",
       "      <td>909</td>\n",
       "      <td>5.35</td>\n",
       "      <td>5.0</td>\n",
       "    </tr>\n",
       "    <tr>\n",
       "      <th>4</th>\n",
       "      <td>C</td>\n",
       "      <td>Female</td>\n",
       "      <td>1049</td>\n",
       "      <td>5.89</td>\n",
       "      <td>6.0</td>\n",
       "    </tr>\n",
       "    <tr>\n",
       "      <th>5</th>\n",
       "      <td>C</td>\n",
       "      <td>Male</td>\n",
       "      <td>782</td>\n",
       "      <td>5.21</td>\n",
       "      <td>5.0</td>\n",
       "    </tr>\n",
       "  </tbody>\n",
       "</table>\n",
       "</div>"
      ],
      "text/plain": [
       "  branch  gender  quantity_sum  quantity_avg  quantity_median\n",
       "0      A  Female           909          5.65              5.0\n",
       "1      A    Male           950          5.31              5.0\n",
       "2      B  Female           911          5.62              6.0\n",
       "3      B    Male           909          5.35              5.0\n",
       "4      C  Female          1049          5.89              6.0\n",
       "5      C    Male           782          5.21              5.0"
      ]
     },
     "execution_count": 36,
     "metadata": {},
     "output_type": "execute_result"
    }
   ],
   "source": [
    "branch = query(\"\"\"\n",
    "      SELECT\n",
    "      branch\n",
    "      , gender\n",
    "      , SUM(quantity) AS quantity_sum\n",
    "      , AVG(quantity)::numeric(3,2) AS quantity_avg\n",
    "      , PERCENTILE_CONT(.5) WITHIN GROUP (ORDER BY quantity) AS quantity_median\n",
    "      FROM supermarket\n",
    "      GROUP BY branch, gender\n",
    "      \"\"\")\n",
    "branch"
   ]
  },
  {
   "cell_type": "code",
   "execution_count": 37,
   "id": "1ee90b82-2689-4f0d-9eff-36743463b2cc",
   "metadata": {},
   "outputs": [
    {
     "data": {
      "text/plain": [
       "Text(0, 0.5, 'Quantity of products')"
      ]
     },
     "execution_count": 37,
     "metadata": {},
     "output_type": "execute_result"
    },
    {
     "data": {
      "image/png": "[encoded data removed]",
      "text/plain": [
       "<Figure size 864x432 with 1 Axes>"
      ]
     },
     "metadata": {
      "needs_background": "light"
     },
     "output_type": "display_data"
    }
   ],
   "source": [
    "fig, ax = plt.subplots(figsize=(12,6))\n",
    "\n",
    "ax = sns.barplot(data=branch, y=\"quantity_sum\", x=\"branch\", hue=\"gender\")\n",
    "\n",
    "ax.set_xlabel(\"Branch\")\n",
    "ax.set_ylabel(\"Quantity of products\")"
   ]
  },
  {
   "cell_type": "code",
   "execution_count": 38,
   "id": "2f2311bf-63ad-48d4-958b-73b035850b4b",
   "metadata": {},
   "outputs": [
    {
     "data": {
      "text/html": [
       "<div>\n",
       "<style scoped>\n",
       "    .dataframe tbody tr th:only-of-type {\n",
       "        vertical-align: middle;\n",
       "    }\n",
       "\n",
       "    .dataframe tbody tr th {\n",
       "        vertical-align: top;\n",
       "    }\n",
       "\n",
       "    .dataframe thead th {\n",
       "        text-align: right;\n",
       "    }\n",
       "</style>\n",
       "<table border=\"1\" class=\"dataframe\">\n",
       "  <thead>\n",
       "    <tr style=\"text-align: right;\">\n",
       "      <th></th>\n",
       "      <th>gender</th>\n",
       "      <th>customer_type</th>\n",
       "      <th>product_line</th>\n",
       "      <th>product_count</th>\n",
       "    </tr>\n",
       "  </thead>\n",
       "  <tbody>\n",
       "    <tr>\n",
       "      <th>0</th>\n",
       "      <td>Male</td>\n",
       "      <td>Normal</td>\n",
       "      <td>Fashion accessories</td>\n",
       "      <td>85</td>\n",
       "    </tr>\n",
       "    <tr>\n",
       "      <th>1</th>\n",
       "      <td>Female</td>\n",
       "      <td>Member</td>\n",
       "      <td>Food and beverages</td>\n",
       "      <td>127</td>\n",
       "    </tr>\n",
       "    <tr>\n",
       "      <th>2</th>\n",
       "      <td>Female</td>\n",
       "      <td>Normal</td>\n",
       "      <td>Food and beverages</td>\n",
       "      <td>104</td>\n",
       "    </tr>\n",
       "    <tr>\n",
       "      <th>3</th>\n",
       "      <td>Male</td>\n",
       "      <td>Normal</td>\n",
       "      <td>Food and beverages</td>\n",
       "      <td>72</td>\n",
       "    </tr>\n",
       "    <tr>\n",
       "      <th>4</th>\n",
       "      <td>Female</td>\n",
       "      <td>Member</td>\n",
       "      <td>Fashion accessories</td>\n",
       "      <td>98</td>\n",
       "    </tr>\n",
       "    <tr>\n",
       "      <th>5</th>\n",
       "      <td>Female</td>\n",
       "      <td>Normal</td>\n",
       "      <td>Sports and travel</td>\n",
       "      <td>96</td>\n",
       "    </tr>\n",
       "    <tr>\n",
       "      <th>6</th>\n",
       "      <td>Male</td>\n",
       "      <td>Member</td>\n",
       "      <td>Sports and travel</td>\n",
       "      <td>57</td>\n",
       "    </tr>\n",
       "    <tr>\n",
       "      <th>7</th>\n",
       "      <td>Male</td>\n",
       "      <td>Member</td>\n",
       "      <td>Fashion accessories</td>\n",
       "      <td>65</td>\n",
       "    </tr>\n",
       "    <tr>\n",
       "      <th>8</th>\n",
       "      <td>Male</td>\n",
       "      <td>Member</td>\n",
       "      <td>Electronic accessories</td>\n",
       "      <td>59</td>\n",
       "    </tr>\n",
       "    <tr>\n",
       "      <th>9</th>\n",
       "      <td>Female</td>\n",
       "      <td>Member</td>\n",
       "      <td>Health and beauty</td>\n",
       "      <td>58</td>\n",
       "    </tr>\n",
       "    <tr>\n",
       "      <th>10</th>\n",
       "      <td>Female</td>\n",
       "      <td>Normal</td>\n",
       "      <td>Fashion accessories</td>\n",
       "      <td>94</td>\n",
       "    </tr>\n",
       "    <tr>\n",
       "      <th>11</th>\n",
       "      <td>Female</td>\n",
       "      <td>Normal</td>\n",
       "      <td>Home and lifestyle</td>\n",
       "      <td>42</td>\n",
       "    </tr>\n",
       "    <tr>\n",
       "      <th>12</th>\n",
       "      <td>Male</td>\n",
       "      <td>Normal</td>\n",
       "      <td>Electronic accessories</td>\n",
       "      <td>110</td>\n",
       "    </tr>\n",
       "    <tr>\n",
       "      <th>13</th>\n",
       "      <td>Male</td>\n",
       "      <td>Member</td>\n",
       "      <td>Food and beverages</td>\n",
       "      <td>66</td>\n",
       "    </tr>\n",
       "    <tr>\n",
       "      <th>14</th>\n",
       "      <td>Female</td>\n",
       "      <td>Normal</td>\n",
       "      <td>Health and beauty</td>\n",
       "      <td>62</td>\n",
       "    </tr>\n",
       "    <tr>\n",
       "      <th>15</th>\n",
       "      <td>Male</td>\n",
       "      <td>Normal</td>\n",
       "      <td>Home and lifestyle</td>\n",
       "      <td>60</td>\n",
       "    </tr>\n",
       "    <tr>\n",
       "      <th>16</th>\n",
       "      <td>Female</td>\n",
       "      <td>Normal</td>\n",
       "      <td>Electronic accessories</td>\n",
       "      <td>103</td>\n",
       "    </tr>\n",
       "    <tr>\n",
       "      <th>17</th>\n",
       "      <td>Male</td>\n",
       "      <td>Normal</td>\n",
       "      <td>Sports and travel</td>\n",
       "      <td>18</td>\n",
       "    </tr>\n",
       "    <tr>\n",
       "      <th>18</th>\n",
       "      <td>Female</td>\n",
       "      <td>Member</td>\n",
       "      <td>Sports and travel</td>\n",
       "      <td>94</td>\n",
       "    </tr>\n",
       "    <tr>\n",
       "      <th>19</th>\n",
       "      <td>Male</td>\n",
       "      <td>Normal</td>\n",
       "      <td>Health and beauty</td>\n",
       "      <td>88</td>\n",
       "    </tr>\n",
       "    <tr>\n",
       "      <th>20</th>\n",
       "      <td>Male</td>\n",
       "      <td>Member</td>\n",
       "      <td>Health and beauty</td>\n",
       "      <td>69</td>\n",
       "    </tr>\n",
       "    <tr>\n",
       "      <th>21</th>\n",
       "      <td>Female</td>\n",
       "      <td>Member</td>\n",
       "      <td>Home and lifestyle</td>\n",
       "      <td>110</td>\n",
       "    </tr>\n",
       "    <tr>\n",
       "      <th>22</th>\n",
       "      <td>Male</td>\n",
       "      <td>Member</td>\n",
       "      <td>Home and lifestyle</td>\n",
       "      <td>33</td>\n",
       "    </tr>\n",
       "    <tr>\n",
       "      <th>23</th>\n",
       "      <td>Female</td>\n",
       "      <td>Member</td>\n",
       "      <td>Electronic accessories</td>\n",
       "      <td>61</td>\n",
       "    </tr>\n",
       "  </tbody>\n",
       "</table>\n",
       "</div>"
      ],
      "text/plain": [
       "    gender customer_type            product_line  product_count\n",
       "0     Male        Normal     Fashion accessories             85\n",
       "1   Female        Member      Food and beverages            127\n",
       "2   Female        Normal      Food and beverages            104\n",
       "3     Male        Normal      Food and beverages             72\n",
       "4   Female        Member     Fashion accessories             98\n",
       "5   Female        Normal       Sports and travel             96\n",
       "6     Male        Member       Sports and travel             57\n",
       "7     Male        Member     Fashion accessories             65\n",
       "8     Male        Member  Electronic accessories             59\n",
       "9   Female        Member       Health and beauty             58\n",
       "10  Female        Normal     Fashion accessories             94\n",
       "11  Female        Normal      Home and lifestyle             42\n",
       "12    Male        Normal  Electronic accessories            110\n",
       "13    Male        Member      Food and beverages             66\n",
       "14  Female        Normal       Health and beauty             62\n",
       "15    Male        Normal      Home and lifestyle             60\n",
       "16  Female        Normal  Electronic accessories            103\n",
       "17    Male        Normal       Sports and travel             18\n",
       "18  Female        Member       Sports and travel             94\n",
       "19    Male        Normal       Health and beauty             88\n",
       "20    Male        Member       Health and beauty             69\n",
       "21  Female        Member      Home and lifestyle            110\n",
       "22    Male        Member      Home and lifestyle             33\n",
       "23  Female        Member  Electronic accessories             61"
      ]
     },
     "execution_count": 38,
     "metadata": {},
     "output_type": "execute_result"
    }
   ],
   "source": [
    "c_branch = query(\"\"\"\n",
    "                 SELECT\n",
    "                 gender\n",
    "                 , customer_type\n",
    "                 , product_line\n",
    "                 , SUM(quantity) AS product_count\n",
    "                 FROM supermarket\n",
    "                 WHERE branch = 'C'\n",
    "                 GROUP BY gender, customer_type, product_line\n",
    "                 ;\n",
    "                 \"\"\")\n",
    "c_branch"
   ]
  },
  {
   "cell_type": "code",
   "execution_count": 39,
   "id": "4e548264-1b5b-443b-9931-51a6f4079961",
   "metadata": {},
   "outputs": [
    {
     "data": {
      "text/html": [
       "<div>\n",
       "<style scoped>\n",
       "    .dataframe tbody tr th:only-of-type {\n",
       "        vertical-align: middle;\n",
       "    }\n",
       "\n",
       "    .dataframe tbody tr th {\n",
       "        vertical-align: top;\n",
       "    }\n",
       "\n",
       "    .dataframe thead th {\n",
       "        text-align: right;\n",
       "    }\n",
       "</style>\n",
       "<table border=\"1\" class=\"dataframe\">\n",
       "  <thead>\n",
       "    <tr style=\"text-align: right;\">\n",
       "      <th></th>\n",
       "      <th>product_line</th>\n",
       "      <th>female_count</th>\n",
       "      <th>male_count</th>\n",
       "      <th>count_diff</th>\n",
       "    </tr>\n",
       "  </thead>\n",
       "  <tbody>\n",
       "    <tr>\n",
       "      <th>0</th>\n",
       "      <td>Fashion accessories</td>\n",
       "      <td>192</td>\n",
       "      <td>150</td>\n",
       "      <td>42</td>\n",
       "    </tr>\n",
       "    <tr>\n",
       "      <th>1</th>\n",
       "      <td>Health and beauty</td>\n",
       "      <td>120</td>\n",
       "      <td>157</td>\n",
       "      <td>-37</td>\n",
       "    </tr>\n",
       "    <tr>\n",
       "      <th>2</th>\n",
       "      <td>Electronic accessories</td>\n",
       "      <td>164</td>\n",
       "      <td>169</td>\n",
       "      <td>-5</td>\n",
       "    </tr>\n",
       "    <tr>\n",
       "      <th>3</th>\n",
       "      <td>Sports and travel</td>\n",
       "      <td>190</td>\n",
       "      <td>75</td>\n",
       "      <td>115</td>\n",
       "    </tr>\n",
       "    <tr>\n",
       "      <th>4</th>\n",
       "      <td>Food and beverages</td>\n",
       "      <td>231</td>\n",
       "      <td>138</td>\n",
       "      <td>93</td>\n",
       "    </tr>\n",
       "    <tr>\n",
       "      <th>5</th>\n",
       "      <td>Home and lifestyle</td>\n",
       "      <td>152</td>\n",
       "      <td>93</td>\n",
       "      <td>59</td>\n",
       "    </tr>\n",
       "  </tbody>\n",
       "</table>\n",
       "</div>"
      ],
      "text/plain": [
       "             product_line  female_count  male_count  count_diff\n",
       "0     Fashion accessories           192         150          42\n",
       "1       Health and beauty           120         157         -37\n",
       "2  Electronic accessories           164         169          -5\n",
       "3       Sports and travel           190          75         115\n",
       "4      Food and beverages           231         138          93\n",
       "5      Home and lifestyle           152          93          59"
      ]
     },
     "execution_count": 39,
     "metadata": {},
     "output_type": "execute_result"
    }
   ],
   "source": [
    "query(\"\"\"\n",
    "        WITH males_c AS (\n",
    "         SELECT\n",
    "          product_line\n",
    "          , SUM(quantity) AS product_count\n",
    "          FROM supermarket\n",
    "          WHERE branch = 'C' AND gender = 'Male'\n",
    "          GROUP BY product_line\n",
    "          ),\n",
    "          \n",
    "          females_c AS (\n",
    "          SELECT\n",
    "          product_line\n",
    "          , SUM(quantity) AS product_count\n",
    "          FROM supermarket\n",
    "          WHERE branch = 'C' AND gender = 'Female'\n",
    "          GROUP BY product_line\n",
    "          )\n",
    "          \n",
    "          SELECT\n",
    "          m.product_line\n",
    "          , f.product_count AS female_count\n",
    "          , m.product_count AS male_count\n",
    "          , f.product_count - m.product_count AS count_diff\n",
    "          FROM males_c m\n",
    "          JOIN females_c f\n",
    "          ON m.product_line = f.product_line\n",
    "          \n",
    "      \"\"\")"
   ]
  },
  {
   "cell_type": "code",
   "execution_count": 40,
   "id": "48f05edb-8baf-49ea-907b-516c395512ba",
   "metadata": {},
   "outputs": [
    {
     "data": {
      "text/plain": [
       "Text(0, 0.5, 'Product quantity')"
      ]
     },
     "execution_count": 40,
     "metadata": {},
     "output_type": "execute_result"
    },
    {
     "data": {
      "image/png": "[encoded data removed]",
      "text/plain": [
       "<Figure size 1008x432 with 1 Axes>"
      ]
     },
     "metadata": {
      "needs_background": "light"
     },
     "output_type": "display_data"
    }
   ],
   "source": [
    "colors = sns.color_palette('colorblind', n_colors=6)\n",
    "fig, ax = plt.subplots(figsize=(14,6))\n",
    "\n",
    "ax = sns.histplot(data=c_branch, hue=\"product_line\", \n",
    "                  weights=\"product_count\", x=\"gender\", \n",
    "                  multiple=\"stack\", palette=colors)\n",
    "\n",
    "ax.set_xlabel(\"Gender\", size=12)\n",
    "ax.set_ylabel(\"Product quantity\", size=12)"
   ]
  },
  {
   "cell_type": "code",
   "execution_count": 41,
   "id": "b227e3d3-7d5f-40a9-8527-4e92d713eb82",
   "metadata": {},
   "outputs": [
    {
     "data": {
      "text/html": [
       "<div>\n",
       "<style scoped>\n",
       "    .dataframe tbody tr th:only-of-type {\n",
       "        vertical-align: middle;\n",
       "    }\n",
       "\n",
       "    .dataframe tbody tr th {\n",
       "        vertical-align: top;\n",
       "    }\n",
       "\n",
       "    .dataframe thead th {\n",
       "        text-align: right;\n",
       "    }\n",
       "</style>\n",
       "<table border=\"1\" class=\"dataframe\">\n",
       "  <thead>\n",
       "    <tr style=\"text-align: right;\">\n",
       "      <th></th>\n",
       "      <th>gender</th>\n",
       "      <th>product_line</th>\n",
       "      <th>avg_quantity</th>\n",
       "      <th>median_quantity</th>\n",
       "      <th>stdev_quantity</th>\n",
       "      <th>perctile_05</th>\n",
       "      <th>perctile_95</th>\n",
       "    </tr>\n",
       "  </thead>\n",
       "  <tbody>\n",
       "    <tr>\n",
       "      <th>0</th>\n",
       "      <td>Female</td>\n",
       "      <td>Electronic accessories</td>\n",
       "      <td>5.81</td>\n",
       "      <td>6.0</td>\n",
       "      <td>2.98</td>\n",
       "      <td>1.0</td>\n",
       "      <td>10.0</td>\n",
       "    </tr>\n",
       "    <tr>\n",
       "      <th>1</th>\n",
       "      <td>Female</td>\n",
       "      <td>Fashion accessories</td>\n",
       "      <td>5.52</td>\n",
       "      <td>5.0</td>\n",
       "      <td>2.92</td>\n",
       "      <td>1.0</td>\n",
       "      <td>10.0</td>\n",
       "    </tr>\n",
       "    <tr>\n",
       "      <th>2</th>\n",
       "      <td>Female</td>\n",
       "      <td>Food and beverages</td>\n",
       "      <td>5.71</td>\n",
       "      <td>5.0</td>\n",
       "      <td>2.92</td>\n",
       "      <td>1.0</td>\n",
       "      <td>10.0</td>\n",
       "    </tr>\n",
       "    <tr>\n",
       "      <th>3</th>\n",
       "      <td>Female</td>\n",
       "      <td>Health and beauty</td>\n",
       "      <td>5.36</td>\n",
       "      <td>5.0</td>\n",
       "      <td>2.80</td>\n",
       "      <td>1.0</td>\n",
       "      <td>10.0</td>\n",
       "    </tr>\n",
       "    <tr>\n",
       "      <th>4</th>\n",
       "      <td>Female</td>\n",
       "      <td>Home and lifestyle</td>\n",
       "      <td>6.30</td>\n",
       "      <td>6.0</td>\n",
       "      <td>2.78</td>\n",
       "      <td>1.0</td>\n",
       "      <td>10.0</td>\n",
       "    </tr>\n",
       "    <tr>\n",
       "      <th>5</th>\n",
       "      <td>Female</td>\n",
       "      <td>Sports and travel</td>\n",
       "      <td>5.64</td>\n",
       "      <td>6.0</td>\n",
       "      <td>2.87</td>\n",
       "      <td>1.0</td>\n",
       "      <td>10.0</td>\n",
       "    </tr>\n",
       "    <tr>\n",
       "      <th>6</th>\n",
       "      <td>Male</td>\n",
       "      <td>Electronic accessories</td>\n",
       "      <td>5.62</td>\n",
       "      <td>6.0</td>\n",
       "      <td>2.85</td>\n",
       "      <td>1.0</td>\n",
       "      <td>10.0</td>\n",
       "    </tr>\n",
       "    <tr>\n",
       "      <th>7</th>\n",
       "      <td>Male</td>\n",
       "      <td>Fashion accessories</td>\n",
       "      <td>4.54</td>\n",
       "      <td>4.0</td>\n",
       "      <td>3.24</td>\n",
       "      <td>1.0</td>\n",
       "      <td>10.0</td>\n",
       "    </tr>\n",
       "    <tr>\n",
       "      <th>8</th>\n",
       "      <td>Male</td>\n",
       "      <td>Food and beverages</td>\n",
       "      <td>5.21</td>\n",
       "      <td>5.0</td>\n",
       "      <td>2.81</td>\n",
       "      <td>1.0</td>\n",
       "      <td>10.0</td>\n",
       "    </tr>\n",
       "    <tr>\n",
       "      <th>9</th>\n",
       "      <td>Male</td>\n",
       "      <td>Health and beauty</td>\n",
       "      <td>5.81</td>\n",
       "      <td>6.0</td>\n",
       "      <td>2.88</td>\n",
       "      <td>1.0</td>\n",
       "      <td>10.0</td>\n",
       "    </tr>\n",
       "    <tr>\n",
       "      <th>10</th>\n",
       "      <td>Male</td>\n",
       "      <td>Home and lifestyle</td>\n",
       "      <td>5.10</td>\n",
       "      <td>5.0</td>\n",
       "      <td>2.75</td>\n",
       "      <td>1.0</td>\n",
       "      <td>10.0</td>\n",
       "    </tr>\n",
       "    <tr>\n",
       "      <th>11</th>\n",
       "      <td>Male</td>\n",
       "      <td>Sports and travel</td>\n",
       "      <td>5.44</td>\n",
       "      <td>6.0</td>\n",
       "      <td>3.05</td>\n",
       "      <td>1.0</td>\n",
       "      <td>10.0</td>\n",
       "    </tr>\n",
       "  </tbody>\n",
       "</table>\n",
       "</div>"
      ],
      "text/plain": [
       "    gender            product_line  avg_quantity  median_quantity  \\\n",
       "0   Female  Electronic accessories          5.81              6.0   \n",
       "1   Female     Fashion accessories          5.52              5.0   \n",
       "2   Female      Food and beverages          5.71              5.0   \n",
       "3   Female       Health and beauty          5.36              5.0   \n",
       "4   Female      Home and lifestyle          6.30              6.0   \n",
       "5   Female       Sports and travel          5.64              6.0   \n",
       "6     Male  Electronic accessories          5.62              6.0   \n",
       "7     Male     Fashion accessories          4.54              4.0   \n",
       "8     Male      Food and beverages          5.21              5.0   \n",
       "9     Male       Health and beauty          5.81              6.0   \n",
       "10    Male      Home and lifestyle          5.10              5.0   \n",
       "11    Male       Sports and travel          5.44              6.0   \n",
       "\n",
       "    stdev_quantity  perctile_05  perctile_95  \n",
       "0             2.98          1.0         10.0  \n",
       "1             2.92          1.0         10.0  \n",
       "2             2.92          1.0         10.0  \n",
       "3             2.80          1.0         10.0  \n",
       "4             2.78          1.0         10.0  \n",
       "5             2.87          1.0         10.0  \n",
       "6             2.85          1.0         10.0  \n",
       "7             3.24          1.0         10.0  \n",
       "8             2.81          1.0         10.0  \n",
       "9             2.88          1.0         10.0  \n",
       "10            2.75          1.0         10.0  \n",
       "11            3.05          1.0         10.0  "
      ]
     },
     "execution_count": 41,
     "metadata": {},
     "output_type": "execute_result"
    }
   ],
   "source": [
    "query(\"\"\"\n",
    "      SELECT\n",
    "      gender\n",
    "      , product_line\n",
    "      , AVG(quantity)::numeric(3,2) AS avg_quantity\n",
    "      , percentile_cont(.5) WITHIN GROUP (ORDER BY quantity) AS median_quantity\n",
    "      , STDDEV(quantity)::numeric(3,2) AS stdev_quantity\n",
    "      , percentile_cont(.05) WITHIN GROUP (ORDER BY quantity) AS perctile_05\n",
    "      , percentile_cont(.95) WITHIN GROUP (ORDER BY quantity) AS perctile_95\n",
    "      FROM supermarket\n",
    "      GROUP BY gender, product_line\n",
    "      \"\"\")"
   ]
  }
 ],
 "metadata": {
  "kernelspec": {
   "display_name": "Python 3 (ipykernel)",
   "language": "python",
   "name": "python3"
  },
  "language_info": {
   "codemirror_mode": {
    "name": "ipython",
    "version": 3
   },
   "file_extension": ".py",
   "mimetype": "text/x-python",
   "name": "python",
   "nbconvert_exporter": "python",
   "pygments_lexer": "ipython3",
   "version": "3.8.5"
  }
 },
 "nbformat": 4,
 "nbformat_minor": 5
}
